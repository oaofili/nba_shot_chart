{
 "cells": [
  {
   "cell_type": "code",
   "execution_count": 1,
   "metadata": {},
   "outputs": [],
   "source": [
    "# General\n",
    "\n",
    "import pandas as pd\n",
    "import numpy as np\n",
    "from scipy import misc\n",
    "import urllib.request, urllib.parse, urllib.error, io\n",
    "from PIL import Image\n",
    "from IPython.display import display, HTML, IFrame\n",
    "\n",
    "# Static NBA API \n",
    "\n",
    "from nba_api.stats.static import teams # For team list\n",
    "from nba_api.stats.static import players\n",
    "\n",
    "# NBA API Endpoint\n",
    "\n",
    "from nba_api.stats.endpoints import teamdashptpass# For team passing stats\n",
    "from nba_api.stats.endpoints import playerdashptpass # For player passing stats\n",
    "from nba_api.stats.endpoints import ShotChartDetail # For player shot location and frequency\n",
    "from nba_api.stats.endpoints import commonplayerinfo # For Common Player Information\n",
    "\n",
    "# Plotting Libraries\n",
    "\n",
    "from matplotlib.patches import Circle, Rectangle, Arc\n",
    "import matplotlib.pyplot as plt\n",
    "from matplotlib.patches import Polygon\n",
    "from matplotlib.collections import PatchCollection\n",
    "from matplotlib.colors import LinearSegmentedColormap\n",
    "\n",
    "# Remove all Warnings\n",
    "# import warnings\n",
    "# warnings.filterwarnings('ignore')"
   ]
  },
  {
   "cell_type": "markdown",
   "metadata": {},
   "source": [
    "# 1 Player Shot Type Overview"
   ]
  },
  {
   "cell_type": "markdown",
   "metadata": {},
   "source": [
    "### 1.0 Inputs"
   ]
  },
  {
   "cell_type": "code",
   "execution_count": 2,
   "metadata": {},
   "outputs": [
    {
     "name": "stdout",
     "output_type": "stream",
     "text": [
      "Enter player ID: 1630224\n"
     ]
    }
   ],
   "source": [
    "player_id = input(\"Enter player ID: \")"
   ]
  },
  {
   "cell_type": "code",
   "execution_count": 3,
   "metadata": {},
   "outputs": [
    {
     "name": "stdout",
     "output_type": "stream",
     "text": [
      "Enter team ID: 1610612745\n"
     ]
    }
   ],
   "source": [
    "team_id = input(\"Enter team ID: \")"
   ]
  },
  {
   "cell_type": "code",
   "execution_count": 4,
   "metadata": {},
   "outputs": [
    {
     "name": "stdout",
     "output_type": "stream",
     "text": [
      "Enter Season that is to be analyzed: 2021-22\n"
     ]
    }
   ],
   "source": [
    "season_nullable = input(\"Enter Season that is to be analyzed: \")"
   ]
  },
  {
   "cell_type": "markdown",
   "metadata": {},
   "source": [
    "#### 1.0.1 Verify Correct Player Information is Used"
   ]
  },
  {
   "cell_type": "code",
   "execution_count": 5,
   "metadata": {
    "scrolled": true
   },
   "outputs": [
    {
     "data": {
      "text/html": [
       "<div>\n",
       "<style scoped>\n",
       "    .dataframe tbody tr th:only-of-type {\n",
       "        vertical-align: middle;\n",
       "    }\n",
       "\n",
       "    .dataframe tbody tr th {\n",
       "        vertical-align: top;\n",
       "    }\n",
       "\n",
       "    .dataframe thead th {\n",
       "        text-align: right;\n",
       "    }\n",
       "</style>\n",
       "<table border=\"1\" class=\"dataframe\">\n",
       "  <thead>\n",
       "    <tr style=\"text-align: right;\">\n",
       "      <th></th>\n",
       "      <th>PERSON_ID</th>\n",
       "      <th>FIRST_NAME</th>\n",
       "      <th>LAST_NAME</th>\n",
       "      <th>DISPLAY_FIRST_LAST</th>\n",
       "      <th>DISPLAY_LAST_COMMA_FIRST</th>\n",
       "      <th>DISPLAY_FI_LAST</th>\n",
       "      <th>PLAYER_SLUG</th>\n",
       "      <th>BIRTHDATE</th>\n",
       "      <th>SCHOOL</th>\n",
       "      <th>COUNTRY</th>\n",
       "      <th>...</th>\n",
       "      <th>PLAYERCODE</th>\n",
       "      <th>FROM_YEAR</th>\n",
       "      <th>TO_YEAR</th>\n",
       "      <th>DLEAGUE_FLAG</th>\n",
       "      <th>NBA_FLAG</th>\n",
       "      <th>GAMES_PLAYED_FLAG</th>\n",
       "      <th>DRAFT_YEAR</th>\n",
       "      <th>DRAFT_ROUND</th>\n",
       "      <th>DRAFT_NUMBER</th>\n",
       "      <th>GREATEST_75_FLAG</th>\n",
       "    </tr>\n",
       "  </thead>\n",
       "  <tbody>\n",
       "    <tr>\n",
       "      <th>0</th>\n",
       "      <td>1630224</td>\n",
       "      <td>Jalen</td>\n",
       "      <td>Green</td>\n",
       "      <td>Jalen Green</td>\n",
       "      <td>Green, Jalen</td>\n",
       "      <td>J. Green</td>\n",
       "      <td>jalen-green</td>\n",
       "      <td>2002-02-09T00:00:00</td>\n",
       "      <td>NBA G League Ignite</td>\n",
       "      <td>USA</td>\n",
       "      <td>...</td>\n",
       "      <td>jalen_green</td>\n",
       "      <td>2021</td>\n",
       "      <td>2022</td>\n",
       "      <td>Y</td>\n",
       "      <td>Y</td>\n",
       "      <td>Y</td>\n",
       "      <td>2021</td>\n",
       "      <td>1</td>\n",
       "      <td>2</td>\n",
       "      <td>N</td>\n",
       "    </tr>\n",
       "  </tbody>\n",
       "</table>\n",
       "<p>1 rows × 33 columns</p>\n",
       "</div>"
      ],
      "text/plain": [
       "   PERSON_ID FIRST_NAME LAST_NAME DISPLAY_FIRST_LAST DISPLAY_LAST_COMMA_FIRST  \\\n",
       "0    1630224      Jalen     Green        Jalen Green             Green, Jalen   \n",
       "\n",
       "  DISPLAY_FI_LAST  PLAYER_SLUG            BIRTHDATE               SCHOOL  \\\n",
       "0        J. Green  jalen-green  2002-02-09T00:00:00  NBA G League Ignite   \n",
       "\n",
       "  COUNTRY  ...   PLAYERCODE FROM_YEAR TO_YEAR  DLEAGUE_FLAG NBA_FLAG  \\\n",
       "0     USA  ...  jalen_green      2021    2022             Y        Y   \n",
       "\n",
       "  GAMES_PLAYED_FLAG DRAFT_YEAR DRAFT_ROUND  DRAFT_NUMBER GREATEST_75_FLAG  \n",
       "0                 Y       2021           1             2                N  \n",
       "\n",
       "[1 rows x 33 columns]"
      ]
     },
     "execution_count": 5,
     "metadata": {},
     "output_type": "execute_result"
    }
   ],
   "source": [
    "commonplayerinfo.CommonPlayerInfo(player_id=player_id).get_data_frames()[0]"
   ]
  },
  {
   "cell_type": "markdown",
   "metadata": {},
   "source": [
    "#### 1.0.2 Verify Correct Team Information is Used"
   ]
  },
  {
   "cell_type": "code",
   "execution_count": 6,
   "metadata": {},
   "outputs": [
    {
     "data": {
      "text/html": [
       "<div>\n",
       "<style scoped>\n",
       "    .dataframe tbody tr th:only-of-type {\n",
       "        vertical-align: middle;\n",
       "    }\n",
       "\n",
       "    .dataframe tbody tr th {\n",
       "        vertical-align: top;\n",
       "    }\n",
       "\n",
       "    .dataframe thead th {\n",
       "        text-align: right;\n",
       "    }\n",
       "</style>\n",
       "<table border=\"1\" class=\"dataframe\">\n",
       "  <thead>\n",
       "    <tr style=\"text-align: right;\">\n",
       "      <th></th>\n",
       "      <th>id</th>\n",
       "      <th>full_name</th>\n",
       "      <th>abbreviation</th>\n",
       "      <th>nickname</th>\n",
       "      <th>city</th>\n",
       "      <th>state</th>\n",
       "      <th>year_founded</th>\n",
       "    </tr>\n",
       "  </thead>\n",
       "  <tbody>\n",
       "    <tr>\n",
       "      <th>8</th>\n",
       "      <td>1610612745</td>\n",
       "      <td>Houston Rockets</td>\n",
       "      <td>HOU</td>\n",
       "      <td>Rockets</td>\n",
       "      <td>Houston</td>\n",
       "      <td>Texas</td>\n",
       "      <td>1967</td>\n",
       "    </tr>\n",
       "  </tbody>\n",
       "</table>\n",
       "</div>"
      ],
      "text/plain": [
       "           id        full_name abbreviation nickname     city  state  \\\n",
       "8  1610612745  Houston Rockets          HOU  Rockets  Houston  Texas   \n",
       "\n",
       "   year_founded  \n",
       "8          1967  "
      ]
     },
     "execution_count": 6,
     "metadata": {},
     "output_type": "execute_result"
    }
   ],
   "source": [
    "# Below returns a list of dictionaries, 1 for each NBA team\n",
    "nba_teams=teams.get_teams()\n",
    "\n",
    "# Let's create a Pandas DataFrame using extracted list of dictionaries\n",
    "df_nba_teams=pd.DataFrame(nba_teams)\n",
    "\n",
    "type(df_nba_teams)\n",
    "\n",
    "# Print DataFrame\n",
    "df_nba_teams[df_nba_teams['id'] == int(team_id)]"
   ]
  },
  {
   "cell_type": "code",
   "execution_count": 7,
   "metadata": {},
   "outputs": [],
   "source": [
    "# Create Dataframe of all of the player's attempted Shots during the specificed Regular Season\n",
    "\n",
    "df_player_shots = ShotChartDetail(player_id=player_id,\n",
    "                  team_id=team_id,\n",
    "                  season_nullable= season_nullable,\n",
    "                  season_type_all_star='Regular Season', \n",
    "                  context_measure_simple = 'FGA').get_data_frames()[0]\n",
    "\n",
    "# Default for  is [context_measure_simple] is 'PTS' and will only return made shots, \n",
    "# but we want all shot attempts so we make it 'FGA'"
   ]
  },
  {
   "cell_type": "code",
   "execution_count": 8,
   "metadata": {},
   "outputs": [
    {
     "data": {
      "text/plain": [
       "array(['Center(C)', 'Left Side Center(LC)', 'Right Side Center(RC)',\n",
       "       'Left Side(L)', 'Right Side(R)', 'Back Court(BC)'], dtype=object)"
      ]
     },
     "execution_count": 8,
     "metadata": {},
     "output_type": "execute_result"
    }
   ],
   "source": [
    "# Inspect Column values for Shot Zone Area Column\n",
    "\n",
    "ShotChartDetail(player_id=2544,\n",
    "                team_id=1610612747,\n",
    "                context_measure_simple = 'FGA').get_data_frames()[0].SHOT_ZONE_AREA.unique()"
   ]
  },
  {
   "cell_type": "code",
   "execution_count": 9,
   "metadata": {},
   "outputs": [
    {
     "data": {
      "text/plain": [
       "array(['Restricted Area', 'In The Paint (Non-RA)', 'Above the Break 3',\n",
       "       'Mid-Range', 'Left Corner 3', 'Right Corner 3', 'Backcourt'],\n",
       "      dtype=object)"
      ]
     },
     "execution_count": 9,
     "metadata": {},
     "output_type": "execute_result"
    }
   ],
   "source": [
    "# Inspect Column values for Shot Zone Area Basic\n",
    "\n",
    "ShotChartDetail(player_id=2544,\n",
    "                team_id=1610612747,\n",
    "                context_measure_simple = 'FGA').get_data_frames()[0].SHOT_ZONE_BASIC.unique()\n",
    "\n",
    "# Corner 3: The small area on the left and right side of the court near the baseline. The 3-point line is a few inches closer to the basket in the corners.\n",
    "# In The Paint: These are shots taken inside the key, the rectangular box close to the basket that measures 15 feet out to the free throw line and 16 feet wide.\n",
    "# Restricted Area: The four-foot area directly surrounding the basket, marked by a semicircle in the paint.\n",
    "# Mid-range: Any shot that comes outside the paint but inside the 3-point line.\n",
    "# Above the Break 3: Any 3-pointer that is not taken from the corners.\n",
    "# Backcourt: Any shot taken from beyond half court, mostly at the end of quarters to beat the clock.\n",
    "# Source: https://jr.nba.com/how-to-read-a-shot-chart/ "
   ]
  },
  {
   "cell_type": "markdown",
   "metadata": {},
   "source": [
    "### 1.1 Calculating Shots Taken For Each Shot Zone"
   ]
  },
  {
   "cell_type": "code",
   "execution_count": 10,
   "metadata": {},
   "outputs": [],
   "source": [
    "# Create Empty List to store Player Stats, this will be used to create Data Frame later\n",
    "list_of_lists = []"
   ]
  },
  {
   "cell_type": "markdown",
   "metadata": {},
   "source": [
    "#### 1.1.1. Total Shots Attempted"
   ]
  },
  {
   "cell_type": "code",
   "execution_count": 11,
   "metadata": {},
   "outputs": [
    {
     "data": {
      "text/plain": [
       "954"
      ]
     },
     "execution_count": 11,
     "metadata": {},
     "output_type": "execute_result"
    }
   ],
   "source": [
    "len (df_player_shots.index)"
   ]
  },
  {
   "cell_type": "markdown",
   "metadata": {},
   "source": [
    "#### 1.1.2. Total Shots Missed or Made"
   ]
  },
  {
   "cell_type": "code",
   "execution_count": 12,
   "metadata": {},
   "outputs": [
    {
     "data": {
      "text/plain": [
       "Missed Shot    548\n",
       "Made Shot      406\n",
       "Name: EVENT_TYPE, dtype: int64"
      ]
     },
     "execution_count": 12,
     "metadata": {},
     "output_type": "execute_result"
    }
   ],
   "source": [
    "df_player_shots['EVENT_TYPE'].value_counts()"
   ]
  },
  {
   "cell_type": "markdown",
   "metadata": {},
   "source": [
    "#### 1.1.3 Three Point Shots"
   ]
  },
  {
   "cell_type": "code",
   "execution_count": 13,
   "metadata": {},
   "outputs": [],
   "source": [
    "# Three point shots Missed\n",
    "\n",
    "missed_3pts= df_player_shots[(df_player_shots['EVENT_TYPE'] == 'Missed Shot') & \n",
    "                (df_player_shots['SHOT_TYPE'] == '3PT Field Goal')\n",
    "                ].count()['GRID_TYPE']"
   ]
  },
  {
   "cell_type": "code",
   "execution_count": 14,
   "metadata": {},
   "outputs": [],
   "source": [
    "# Three point shots Made\n",
    "\n",
    "made_3pts = df_player_shots[(df_player_shots['EVENT_TYPE'] == 'Made Shot') & \n",
    "                (df_player_shots['SHOT_TYPE'] == '3PT Field Goal')\n",
    "                ].count()['GRID_TYPE']"
   ]
  },
  {
   "cell_type": "code",
   "execution_count": 15,
   "metadata": {},
   "outputs": [],
   "source": [
    "# Field Goal Percentage\n",
    "\n",
    "percentage_3pts = made_3pts/(missed_3pts + made_3pts)"
   ]
  },
  {
   "cell_type": "code",
   "execution_count": 16,
   "metadata": {},
   "outputs": [
    {
     "name": "stdout",
     "output_type": "stream",
     "text": [
      "Total three point shots missed: 301\n",
      "Total three point shots made: 157\n",
      "Three point shot field goal percentage: 34.28%\n"
     ]
    }
   ],
   "source": [
    "print(f\"Total three point shots missed: {missed_3pts}\")\n",
    "print(f\"Total three point shots made: {made_3pts}\")\n",
    "print(f\"Three point shot field goal percentage: {round((100*percentage_3pts),2)}%\")"
   ]
  },
  {
   "cell_type": "markdown",
   "metadata": {},
   "source": [
    "##### 1.1.3.1 Three point shots [Center Three Pointer]"
   ]
  },
  {
   "cell_type": "code",
   "execution_count": 17,
   "metadata": {},
   "outputs": [],
   "source": [
    "#Missed Center Three Pointer\n",
    "\n",
    "missed_center_3pts = df_player_shots[(df_player_shots['EVENT_TYPE'] == 'Missed Shot') &\n",
    "                (df_player_shots['SHOT_TYPE'] == '3PT Field Goal') & \n",
    "                (df_player_shots['SHOT_ZONE_BASIC'] == 'Above the Break 3') &\n",
    "                (df_player_shots['SHOT_ZONE_AREA'] == 'Center(C)')\n",
    "                ].count()['GRID_TYPE']"
   ]
  },
  {
   "cell_type": "code",
   "execution_count": 18,
   "metadata": {},
   "outputs": [],
   "source": [
    "#Made Center Three Pointer\n",
    "\n",
    "made_center_3pts= df_player_shots[(df_player_shots['EVENT_TYPE'] == 'Made Shot') &\n",
    "                (df_player_shots['SHOT_TYPE'] == '3PT Field Goal') & \n",
    "                (df_player_shots['SHOT_ZONE_BASIC'] == 'Above the Break 3') &\n",
    "                (df_player_shots['SHOT_ZONE_AREA'] == 'Center(C)')\n",
    "                ].count()['GRID_TYPE']"
   ]
  },
  {
   "cell_type": "code",
   "execution_count": 19,
   "metadata": {},
   "outputs": [],
   "source": [
    "# Field Goal Percentage\n",
    "\n",
    "percentage_center_3pts = made_center_3pts/(missed_center_3pts + made_center_3pts)"
   ]
  },
  {
   "cell_type": "code",
   "execution_count": 20,
   "metadata": {},
   "outputs": [
    {
     "name": "stdout",
     "output_type": "stream",
     "text": [
      "Total three point shots missed from above the break Center: 59\n",
      "Total three point shots made from above the break Center: 37\n",
      "Center three point shot field goal percentage: 38.54%\n"
     ]
    }
   ],
   "source": [
    "print(f\"Total three point shots missed from above the break Center: {missed_center_3pts}\")\n",
    "print(f\"Total three point shots made from above the break Center: {made_center_3pts}\")\n",
    "print(f\"Center three point shot field goal percentage: {round((100*percentage_center_3pts),2)}%\")"
   ]
  },
  {
   "cell_type": "code",
   "execution_count": 21,
   "metadata": {},
   "outputs": [],
   "source": [
    "list_of_lists.append(['Above the Break 3','Center(C)',missed_center_3pts+made_center_3pts,made_center_3pts,percentage_center_3pts])"
   ]
  },
  {
   "cell_type": "code",
   "execution_count": null,
   "metadata": {},
   "outputs": [],
   "source": []
  },
  {
   "cell_type": "markdown",
   "metadata": {},
   "source": [
    "##### 1.1.3.2 Three point shots [Left Three Pointer]"
   ]
  },
  {
   "cell_type": "code",
   "execution_count": 22,
   "metadata": {},
   "outputs": [],
   "source": [
    "#Missed Left Center Three Pointer\n",
    "\n",
    "missed_left_3pts= df_player_shots[(df_player_shots['EVENT_TYPE'] == 'Missed Shot') &\n",
    "                    (df_player_shots['SHOT_TYPE'] == '3PT Field Goal') & \n",
    "                    (df_player_shots['SHOT_ZONE_BASIC'] == 'Above the Break 3') &\n",
    "                    (df_player_shots['SHOT_ZONE_AREA'] == 'Left Side Center(LC)')\n",
    "                    ].count()['GRID_TYPE']"
   ]
  },
  {
   "cell_type": "code",
   "execution_count": 23,
   "metadata": {},
   "outputs": [],
   "source": [
    "#Made Left Center Three Pointer\n",
    "\n",
    "made_left_3pts= df_player_shots[(df_player_shots['EVENT_TYPE'] == 'Made Shot') &\n",
    "                    (df_player_shots['SHOT_TYPE'] == '3PT Field Goal') & \n",
    "                    (df_player_shots['SHOT_ZONE_BASIC'] == 'Above the Break 3') &\n",
    "                    (df_player_shots['SHOT_ZONE_AREA'] == 'Left Side Center(LC)')\n",
    "                    ].count()['GRID_TYPE']"
   ]
  },
  {
   "cell_type": "code",
   "execution_count": 24,
   "metadata": {},
   "outputs": [],
   "source": [
    "# Field Goal Percentage\n",
    "\n",
    "percentage_left_3pts = made_left_3pts/(missed_left_3pts + made_left_3pts)"
   ]
  },
  {
   "cell_type": "code",
   "execution_count": 25,
   "metadata": {},
   "outputs": [
    {
     "name": "stdout",
     "output_type": "stream",
     "text": [
      "Total three point shots missed from above the break Left Side: 103\n",
      "Total three point shots made from above the break Left Side: 43\n",
      "Left Side three point shot field goal percentage: 29.45%\n"
     ]
    }
   ],
   "source": [
    "print(f\"Total three point shots missed from above the break Left Side: {missed_left_3pts}\")\n",
    "print(f\"Total three point shots made from above the break Left Side: {made_left_3pts}\")\n",
    "print(f\"Left Side three point shot field goal percentage: {round((100*percentage_left_3pts),2)}%\")"
   ]
  },
  {
   "cell_type": "code",
   "execution_count": 26,
   "metadata": {},
   "outputs": [],
   "source": [
    "list_of_lists.append(['Above the Break 3','Left Side Center(LC)',missed_left_3pts+made_left_3pts,\\\n",
    "                      made_left_3pts,percentage_left_3pts])"
   ]
  },
  {
   "cell_type": "markdown",
   "metadata": {},
   "source": [
    "##### 1.1.3.3 Three point shots [Right Three Pointer]"
   ]
  },
  {
   "cell_type": "code",
   "execution_count": 27,
   "metadata": {},
   "outputs": [],
   "source": [
    "#Missed Right Center Three Pointer\n",
    "\n",
    "missed_right_3pts= df_player_shots[(df_player_shots['EVENT_TYPE'] == 'Missed Shot') &\n",
    "                    (df_player_shots['SHOT_TYPE'] == '3PT Field Goal') & \n",
    "                    (df_player_shots['SHOT_ZONE_BASIC'] == 'Above the Break 3') &\n",
    "                    (df_player_shots['SHOT_ZONE_AREA'] == 'Right Side Center(RC)')\n",
    "                    ].count()['GRID_TYPE']"
   ]
  },
  {
   "cell_type": "code",
   "execution_count": 28,
   "metadata": {},
   "outputs": [],
   "source": [
    "#Made Right Center Three Pointer\n",
    "\n",
    "made_right_3pts= df_player_shots[(df_player_shots['EVENT_TYPE'] == 'Made Shot') &\n",
    "                    (df_player_shots['SHOT_TYPE'] == '3PT Field Goal') & \n",
    "                    (df_player_shots['SHOT_ZONE_BASIC'] == 'Above the Break 3') &\n",
    "                    (df_player_shots['SHOT_ZONE_AREA'] == 'Right Side Center(RC)')\n",
    "                    ].count()['GRID_TYPE']"
   ]
  },
  {
   "cell_type": "code",
   "execution_count": 29,
   "metadata": {},
   "outputs": [],
   "source": [
    "# Field Goal Percentage\n",
    "\n",
    "percentage_right_3pts = made_right_3pts/(missed_right_3pts + made_right_3pts)"
   ]
  },
  {
   "cell_type": "code",
   "execution_count": 30,
   "metadata": {},
   "outputs": [
    {
     "name": "stdout",
     "output_type": "stream",
     "text": [
      "Total three point shots missed from above the break Right Side: 91\n",
      "Total three point shots made from above the break Right Side: 51\n",
      "Right Side three point shot field goal percentage: 35.92%\n"
     ]
    }
   ],
   "source": [
    "print(f\"Total three point shots missed from above the break Right Side: {missed_right_3pts}\")\n",
    "print(f\"Total three point shots made from above the break Right Side: {made_right_3pts}\")\n",
    "print(f\"Right Side three point shot field goal percentage: {round((100*percentage_right_3pts),2)}%\")"
   ]
  },
  {
   "cell_type": "code",
   "execution_count": 31,
   "metadata": {},
   "outputs": [],
   "source": [
    "list_of_lists.append(['Above the Break 3','Right Side Center(RC)',missed_right_3pts+made_right_3pts,\\\n",
    "                      made_right_3pts,percentage_right_3pts])"
   ]
  },
  {
   "cell_type": "code",
   "execution_count": 32,
   "metadata": {},
   "outputs": [
    {
     "data": {
      "text/plain": [
       "[['Above the Break 3', 'Center(C)', 96, 37, 0.3854166666666667],\n",
       " ['Above the Break 3', 'Left Side Center(LC)', 146, 43, 0.2945205479452055],\n",
       " ['Above the Break 3', 'Right Side Center(RC)', 142, 51, 0.3591549295774648]]"
      ]
     },
     "execution_count": 32,
     "metadata": {},
     "output_type": "execute_result"
    }
   ],
   "source": [
    "list_of_lists"
   ]
  },
  {
   "cell_type": "markdown",
   "metadata": {},
   "source": [
    "##### 1.1.3.4 Three point shots [Left Corner 3]"
   ]
  },
  {
   "cell_type": "code",
   "execution_count": 33,
   "metadata": {},
   "outputs": [],
   "source": [
    "# Missed Left Corner 3\n",
    "\n",
    "missed_left_corner_3 = df_player_shots[(df_player_shots['EVENT_TYPE'] == 'Missed Shot') &\n",
    "                        (df_player_shots['SHOT_TYPE'] == '3PT Field Goal') &\n",
    "                        (df_player_shots['SHOT_ZONE_BASIC'] == 'Left Corner 3')]\\\n",
    "                        .count()['GRID_TYPE']"
   ]
  },
  {
   "cell_type": "code",
   "execution_count": 34,
   "metadata": {},
   "outputs": [],
   "source": [
    "# Made Left Corner 3\n",
    "\n",
    "made_left_corner_3 = df_player_shots[(df_player_shots['EVENT_TYPE'] == 'Made Shot') &\n",
    "                        (df_player_shots['SHOT_TYPE'] == '3PT Field Goal') &\n",
    "                        (df_player_shots['SHOT_ZONE_BASIC'] == 'Left Corner 3')]\\\n",
    "                        .count()['GRID_TYPE']"
   ]
  },
  {
   "cell_type": "code",
   "execution_count": 35,
   "metadata": {},
   "outputs": [],
   "source": [
    "# Field Goal Percentage\n",
    "\n",
    "percentage_left_corner_3 = made_left_corner_3/(missed_left_corner_3 + made_left_corner_3)"
   ]
  },
  {
   "cell_type": "code",
   "execution_count": 36,
   "metadata": {},
   "outputs": [
    {
     "name": "stdout",
     "output_type": "stream",
     "text": [
      "Total left corner three point shots missed: 31\n",
      "Total left corner three point shots made: 17\n",
      "Left Corner Three point shot field goal percentage: 35.42%\n"
     ]
    }
   ],
   "source": [
    "print(f\"Total left corner three point shots missed: {missed_left_corner_3}\")\n",
    "print(f\"Total left corner three point shots made: {made_left_corner_3}\")\n",
    "print(f\"Left Corner Three point shot field goal percentage: {round((100*percentage_left_corner_3),2)}%\")"
   ]
  },
  {
   "cell_type": "code",
   "execution_count": 37,
   "metadata": {},
   "outputs": [],
   "source": [
    "list_of_lists.append(['Left Corner 3','Left Side(L)',missed_left_corner_3+made_left_corner_3,\\\n",
    "                      made_left_corner_3,percentage_left_corner_3])"
   ]
  },
  {
   "cell_type": "code",
   "execution_count": 38,
   "metadata": {},
   "outputs": [
    {
     "data": {
      "text/plain": [
       "[['Above the Break 3', 'Center(C)', 96, 37, 0.3854166666666667],\n",
       " ['Above the Break 3', 'Left Side Center(LC)', 146, 43, 0.2945205479452055],\n",
       " ['Above the Break 3', 'Right Side Center(RC)', 142, 51, 0.3591549295774648],\n",
       " ['Left Corner 3', 'Left Side(L)', 48, 17, 0.3541666666666667]]"
      ]
     },
     "execution_count": 38,
     "metadata": {},
     "output_type": "execute_result"
    }
   ],
   "source": [
    "list_of_lists"
   ]
  },
  {
   "cell_type": "markdown",
   "metadata": {},
   "source": [
    "##### 1.1.3.5 Three point shots [Right Corner 3]"
   ]
  },
  {
   "cell_type": "code",
   "execution_count": 39,
   "metadata": {},
   "outputs": [],
   "source": [
    "# Missed Right Corner 3\n",
    "\n",
    "missed_right_corner_3 = df_player_shots[(df_player_shots['EVENT_TYPE'] == 'Missed Shot') &\n",
    "                        (df_player_shots['SHOT_TYPE'] == '3PT Field Goal') &\n",
    "                        (df_player_shots['SHOT_ZONE_BASIC'] == 'Right Corner 3')]\\\n",
    "                        .count()['GRID_TYPE']"
   ]
  },
  {
   "cell_type": "code",
   "execution_count": 40,
   "metadata": {},
   "outputs": [],
   "source": [
    "# Made Right Corner 3\n",
    "\n",
    "made_right_corner_3 = df_player_shots[(df_player_shots['EVENT_TYPE'] == 'Made Shot') &\n",
    "                        (df_player_shots['SHOT_TYPE'] == '3PT Field Goal') &\n",
    "                        (df_player_shots['SHOT_ZONE_BASIC'] == 'Right Corner 3')]\\\n",
    "                        .count()['GRID_TYPE']"
   ]
  },
  {
   "cell_type": "code",
   "execution_count": 41,
   "metadata": {},
   "outputs": [],
   "source": [
    "# Field Goal Percentage\n",
    "\n",
    "percentage_right_corner_3 = made_right_corner_3/(missed_right_corner_3 + made_right_corner_3)"
   ]
  },
  {
   "cell_type": "code",
   "execution_count": 42,
   "metadata": {},
   "outputs": [
    {
     "name": "stdout",
     "output_type": "stream",
     "text": [
      "Total right corner three point shots missed: 15\n",
      "Total right corner three point shots made: 9\n",
      "RightCorner Three point shot field goal percentage: 37.5%\n"
     ]
    }
   ],
   "source": [
    "print(f\"Total right corner three point shots missed: {missed_right_corner_3}\")\n",
    "print(f\"Total right corner three point shots made: {made_right_corner_3}\")\n",
    "print(f\"RightCorner Three point shot field goal percentage: {round((100*percentage_right_corner_3),2)}%\")"
   ]
  },
  {
   "cell_type": "code",
   "execution_count": 43,
   "metadata": {},
   "outputs": [],
   "source": [
    "list_of_lists.append(['Right Corner 3','Right Side(R)',missed_right_corner_3+made_right_corner_3,\\\n",
    "                      made_right_corner_3,percentage_right_corner_3])"
   ]
  },
  {
   "cell_type": "code",
   "execution_count": 44,
   "metadata": {},
   "outputs": [
    {
     "data": {
      "text/plain": [
       "[['Above the Break 3', 'Center(C)', 96, 37, 0.3854166666666667],\n",
       " ['Above the Break 3', 'Left Side Center(LC)', 146, 43, 0.2945205479452055],\n",
       " ['Above the Break 3', 'Right Side Center(RC)', 142, 51, 0.3591549295774648],\n",
       " ['Left Corner 3', 'Left Side(L)', 48, 17, 0.3541666666666667],\n",
       " ['Right Corner 3', 'Right Side(R)', 24, 9, 0.375]]"
      ]
     },
     "execution_count": 44,
     "metadata": {},
     "output_type": "execute_result"
    }
   ],
   "source": [
    "list_of_lists"
   ]
  },
  {
   "cell_type": "markdown",
   "metadata": {},
   "source": [
    "##### 1.1.3.6 Three point shots [Backcourt]"
   ]
  },
  {
   "cell_type": "code",
   "execution_count": 45,
   "metadata": {},
   "outputs": [],
   "source": [
    "# Missed Backcourt Shots\n",
    "\n",
    "missed_backcourt = df_player_shots[(df_player_shots['EVENT_TYPE'] == 'Missed Shot') & \n",
    "                (df_player_shots['SHOT_TYPE'] == '3PT Field Goal') & \n",
    "                (df_player_shots['SHOT_ZONE_BASIC'] == 'Backcourt')].count()['GRID_TYPE']"
   ]
  },
  {
   "cell_type": "code",
   "execution_count": 46,
   "metadata": {},
   "outputs": [],
   "source": [
    "# Made Backcourt Shots\n",
    "\n",
    "made_backcourt = df_player_shots[(df_player_shots['EVENT_TYPE'] == 'Made Shot') & \n",
    "                (df_player_shots['SHOT_TYPE'] == '3PT Field Goal') & \n",
    "                (df_player_shots['SHOT_ZONE_BASIC'] == 'Backcourt')].count()['GRID_TYPE']"
   ]
  },
  {
   "cell_type": "code",
   "execution_count": 47,
   "metadata": {},
   "outputs": [],
   "source": [
    "# Field Goal Percentage\n",
    "\n",
    "percentage_backcourt = made_backcourt/(missed_backcourt + made_backcourt)"
   ]
  },
  {
   "cell_type": "code",
   "execution_count": 48,
   "metadata": {},
   "outputs": [
    {
     "name": "stdout",
     "output_type": "stream",
     "text": [
      "Total backcourt three point shots missed: 1\n",
      "Total backcourt three point shots made: 0\n",
      "Backcourt Three point shot field goal percentage: 0.0%\n"
     ]
    }
   ],
   "source": [
    "print(f\"Total backcourt three point shots missed: {missed_backcourt}\")\n",
    "print(f\"Total backcourt three point shots made: {made_backcourt}\")\n",
    "print(f\"Backcourt Three point shot field goal percentage: {round((100*percentage_backcourt),2)}%\")"
   ]
  },
  {
   "cell_type": "code",
   "execution_count": 49,
   "metadata": {},
   "outputs": [],
   "source": [
    "list_of_lists.append(['Backcourt','Back Court(BC)',missed_backcourt+made_backcourt,\\\n",
    "                      made_backcourt,percentage_backcourt])"
   ]
  },
  {
   "cell_type": "code",
   "execution_count": 50,
   "metadata": {},
   "outputs": [
    {
     "data": {
      "text/plain": [
       "[['Above the Break 3', 'Center(C)', 96, 37, 0.3854166666666667],\n",
       " ['Above the Break 3', 'Left Side Center(LC)', 146, 43, 0.2945205479452055],\n",
       " ['Above the Break 3', 'Right Side Center(RC)', 142, 51, 0.3591549295774648],\n",
       " ['Left Corner 3', 'Left Side(L)', 48, 17, 0.3541666666666667],\n",
       " ['Right Corner 3', 'Right Side(R)', 24, 9, 0.375],\n",
       " ['Backcourt', 'Back Court(BC)', 1, 0, 0.0]]"
      ]
     },
     "execution_count": 50,
     "metadata": {},
     "output_type": "execute_result"
    }
   ],
   "source": [
    "list_of_lists"
   ]
  },
  {
   "cell_type": "markdown",
   "metadata": {},
   "source": [
    "#### 1.1.4 Two point shots"
   ]
  },
  {
   "cell_type": "code",
   "execution_count": 51,
   "metadata": {},
   "outputs": [
    {
     "data": {
      "text/plain": [
       "247"
      ]
     },
     "execution_count": 51,
     "metadata": {},
     "output_type": "execute_result"
    }
   ],
   "source": [
    "df_player_shots[(df_player_shots['EVENT_TYPE'] == 'Missed Shot') & \n",
    "                (df_player_shots['SHOT_TYPE'] == '2PT Field Goal')].count()['GRID_TYPE']"
   ]
  },
  {
   "cell_type": "markdown",
   "metadata": {},
   "source": [
    "##### 1.1.4.1 Two Point Shots"
   ]
  },
  {
   "cell_type": "code",
   "execution_count": 52,
   "metadata": {},
   "outputs": [],
   "source": [
    "# Two point shots Missed\n",
    "\n",
    "missed_2pts= df_player_shots[(df_player_shots['EVENT_TYPE'] == 'Missed Shot') & \n",
    "                (df_player_shots['SHOT_TYPE'] == '2PT Field Goal')\n",
    "                ].count()['GRID_TYPE']"
   ]
  },
  {
   "cell_type": "code",
   "execution_count": 53,
   "metadata": {},
   "outputs": [],
   "source": [
    "# Two point shots Made\n",
    "\n",
    "made_2pts = df_player_shots[(df_player_shots['EVENT_TYPE'] == 'Made Shot') & \n",
    "                (df_player_shots['SHOT_TYPE'] == '2PT Field Goal')\n",
    "                ].count()['GRID_TYPE']"
   ]
  },
  {
   "cell_type": "code",
   "execution_count": 54,
   "metadata": {},
   "outputs": [],
   "source": [
    "# Field Goal Percentage\n",
    "\n",
    "percentage_2pts = made_2pts/(missed_2pts + made_2pts)"
   ]
  },
  {
   "cell_type": "code",
   "execution_count": 55,
   "metadata": {},
   "outputs": [
    {
     "name": "stdout",
     "output_type": "stream",
     "text": [
      "Total two point shots missed: 247\n",
      "Total two point shots made: 249\n",
      "Two point shot field goal percentage: 50.2%\n"
     ]
    }
   ],
   "source": [
    "print(f\"Total two point shots missed: {missed_2pts}\")\n",
    "print(f\"Total two point shots made: {made_2pts}\")\n",
    "print(f\"Two point shot field goal percentage: {round((100*percentage_2pts),2)}%\")"
   ]
  },
  {
   "cell_type": "markdown",
   "metadata": {},
   "source": [
    "##### 1.1.4.2 Two point shots [Restricted Area]"
   ]
  },
  {
   "cell_type": "code",
   "execution_count": 56,
   "metadata": {},
   "outputs": [],
   "source": [
    "# Missed Restricted Area Two Pointers\n",
    "\n",
    "missed_RA_2pts = df_player_shots[(df_player_shots['EVENT_TYPE'] == 'Missed Shot') & \n",
    "                (df_player_shots['SHOT_TYPE'] == '2PT Field Goal')& \n",
    "                (df_player_shots['SHOT_ZONE_BASIC'] == 'Restricted Area')].count()['GRID_TYPE']"
   ]
  },
  {
   "cell_type": "code",
   "execution_count": 57,
   "metadata": {},
   "outputs": [],
   "source": [
    "# Made Restricted Area Two Pointers\n",
    "\n",
    "made_RA_2pts = df_player_shots[(df_player_shots['EVENT_TYPE'] == 'Made Shot') & \n",
    "                (df_player_shots['SHOT_TYPE'] == '2PT Field Goal')& \n",
    "                (df_player_shots['SHOT_ZONE_BASIC'] == 'Restricted Area')].count()['GRID_TYPE']"
   ]
  },
  {
   "cell_type": "code",
   "execution_count": 58,
   "metadata": {},
   "outputs": [],
   "source": [
    "# Field Goal Percentage\n",
    "\n",
    "percentage_RA_2pts = made_RA_2pts/(missed_RA_2pts + made_RA_2pts)"
   ]
  },
  {
   "cell_type": "code",
   "execution_count": 59,
   "metadata": {},
   "outputs": [
    {
     "name": "stdout",
     "output_type": "stream",
     "text": [
      "Total two point shots missed: 118\n",
      "Total two point shots made: 193\n",
      "Two point shot field goal percentage: 62.06%\n"
     ]
    }
   ],
   "source": [
    "print(f\"Total two point shots missed: {missed_RA_2pts}\")\n",
    "print(f\"Total two point shots made: {made_RA_2pts}\")\n",
    "print(f\"Two point shot field goal percentage: {round((100*percentage_RA_2pts),2)}%\")"
   ]
  },
  {
   "cell_type": "code",
   "execution_count": 60,
   "metadata": {},
   "outputs": [],
   "source": [
    "list_of_lists.append(['Restricted Area','Center(C)',missed_RA_2pts+made_RA_2pts,\\\n",
    "                      made_RA_2pts,percentage_RA_2pts])"
   ]
  },
  {
   "cell_type": "code",
   "execution_count": 61,
   "metadata": {
    "scrolled": false
   },
   "outputs": [
    {
     "data": {
      "text/plain": [
       "[['Above the Break 3', 'Center(C)', 96, 37, 0.3854166666666667],\n",
       " ['Above the Break 3', 'Left Side Center(LC)', 146, 43, 0.2945205479452055],\n",
       " ['Above the Break 3', 'Right Side Center(RC)', 142, 51, 0.3591549295774648],\n",
       " ['Left Corner 3', 'Left Side(L)', 48, 17, 0.3541666666666667],\n",
       " ['Right Corner 3', 'Right Side(R)', 24, 9, 0.375],\n",
       " ['Backcourt', 'Back Court(BC)', 1, 0, 0.0],\n",
       " ['Restricted Area', 'Center(C)', 311, 193, 0.6205787781350482]]"
      ]
     },
     "execution_count": 61,
     "metadata": {},
     "output_type": "execute_result"
    }
   ],
   "source": [
    "list_of_lists"
   ]
  },
  {
   "cell_type": "markdown",
   "metadata": {},
   "source": [
    "##### 1.1.4.3 Two point shots [Center Paint (Not Restricted Area and neither Left or Right strips of Paint Area)] "
   ]
  },
  {
   "cell_type": "code",
   "execution_count": 62,
   "metadata": {},
   "outputs": [],
   "source": [
    "# Missed Restricted Area Two Pointers\n",
    "\n",
    "missed_center_paint_2pts = df_player_shots[(df_player_shots['EVENT_TYPE'] == 'Missed Shot') & \n",
    "                (df_player_shots['SHOT_TYPE'] == '2PT Field Goal')& \n",
    "                (df_player_shots['SHOT_ZONE_BASIC'] == 'In The Paint (Non-RA)') &\n",
    "                (df_player_shots['SHOT_ZONE_AREA'] == 'Center(C)') ].count()['GRID_TYPE']"
   ]
  },
  {
   "cell_type": "code",
   "execution_count": 63,
   "metadata": {},
   "outputs": [],
   "source": [
    "# Made Restricted Area Two Pointers\n",
    "\n",
    "made_center_paint_2pts = df_player_shots[(df_player_shots['EVENT_TYPE'] == 'Made Shot') & \n",
    "                (df_player_shots['SHOT_TYPE'] == '2PT Field Goal')& \n",
    "                (df_player_shots['SHOT_ZONE_BASIC'] == 'In The Paint (Non-RA)') &\n",
    "                (df_player_shots['SHOT_ZONE_AREA'] == 'Center(C)') ].count()['GRID_TYPE']"
   ]
  },
  {
   "cell_type": "code",
   "execution_count": 64,
   "metadata": {},
   "outputs": [],
   "source": [
    "# Field Goal Percentage\n",
    "\n",
    "percentage_center_paint_2pts = made_center_paint_2pts/(missed_center_paint_2pts + made_center_paint_2pts)"
   ]
  },
  {
   "cell_type": "code",
   "execution_count": 65,
   "metadata": {},
   "outputs": [
    {
     "name": "stdout",
     "output_type": "stream",
     "text": [
      "Total two point shots missed: 64\n",
      "Total two point shots made: 14\n",
      "Two point shot field goal percentage: 17.95%\n"
     ]
    }
   ],
   "source": [
    "print(f\"Total two point shots missed: {missed_center_paint_2pts}\")\n",
    "print(f\"Total two point shots made: {made_center_paint_2pts}\")\n",
    "print(f\"Two point shot field goal percentage: {round((100*percentage_center_paint_2pts),2)}%\")"
   ]
  },
  {
   "cell_type": "code",
   "execution_count": 66,
   "metadata": {},
   "outputs": [],
   "source": [
    "list_of_lists.append(['In The Paint (Non-RA)','Center(C)',missed_center_paint_2pts+made_center_paint_2pts,\\\n",
    "                      made_center_paint_2pts,percentage_center_paint_2pts])"
   ]
  },
  {
   "cell_type": "code",
   "execution_count": 67,
   "metadata": {
    "scrolled": false
   },
   "outputs": [
    {
     "data": {
      "text/plain": [
       "[['Above the Break 3', 'Center(C)', 96, 37, 0.3854166666666667],\n",
       " ['Above the Break 3', 'Left Side Center(LC)', 146, 43, 0.2945205479452055],\n",
       " ['Above the Break 3', 'Right Side Center(RC)', 142, 51, 0.3591549295774648],\n",
       " ['Left Corner 3', 'Left Side(L)', 48, 17, 0.3541666666666667],\n",
       " ['Right Corner 3', 'Right Side(R)', 24, 9, 0.375],\n",
       " ['Backcourt', 'Back Court(BC)', 1, 0, 0.0],\n",
       " ['Restricted Area', 'Center(C)', 311, 193, 0.6205787781350482],\n",
       " ['In The Paint (Non-RA)', 'Center(C)', 78, 14, 0.1794871794871795]]"
      ]
     },
     "execution_count": 67,
     "metadata": {},
     "output_type": "execute_result"
    }
   ],
   "source": [
    "list_of_lists"
   ]
  },
  {
   "cell_type": "markdown",
   "metadata": {},
   "source": [
    "##### 1.1.4.4 Two point shots [Mid Range (Center Only)] "
   ]
  },
  {
   "cell_type": "code",
   "execution_count": 68,
   "metadata": {},
   "outputs": [],
   "source": [
    "# Missed Midrange Center Two Pointers\n",
    "\n",
    "missed_center_midrange_2pts = df_player_shots[(df_player_shots['EVENT_TYPE'] == 'Missed Shot') & \n",
    "                (df_player_shots['SHOT_TYPE'] == '2PT Field Goal')& \n",
    "                (df_player_shots['SHOT_ZONE_BASIC'] == 'Mid-Range') &\n",
    "                (df_player_shots['SHOT_ZONE_AREA'] == 'Center(C)') ].count()['GRID_TYPE']"
   ]
  },
  {
   "cell_type": "code",
   "execution_count": 69,
   "metadata": {},
   "outputs": [],
   "source": [
    "# Made Midrange Center Two Pointers\n",
    "\n",
    "made_center_midrange_2pts = df_player_shots[(df_player_shots['EVENT_TYPE'] == 'Made Shot') & \n",
    "                (df_player_shots['SHOT_TYPE'] == '2PT Field Goal')& \n",
    "                (df_player_shots['SHOT_ZONE_BASIC'] == 'Mid-Range') &\n",
    "                (df_player_shots['SHOT_ZONE_AREA'] == 'Center(C)') ].count()['GRID_TYPE']"
   ]
  },
  {
   "cell_type": "code",
   "execution_count": 70,
   "metadata": {},
   "outputs": [],
   "source": [
    "# Field Goal Percentage\n",
    "\n",
    "percentage_center_midrange_2pts = made_center_midrange_2pts/(missed_center_midrange_2pts + made_center_midrange_2pts)"
   ]
  },
  {
   "cell_type": "code",
   "execution_count": 71,
   "metadata": {},
   "outputs": [],
   "source": [
    "list_of_lists.append(['Mid-Range','Center(C)',(missed_center_midrange_2pts + made_center_midrange_2pts),\\\n",
    "                      made_center_midrange_2pts,percentage_center_midrange_2pts])"
   ]
  },
  {
   "cell_type": "code",
   "execution_count": 72,
   "metadata": {
    "scrolled": true
   },
   "outputs": [
    {
     "data": {
      "text/plain": [
       "[['Above the Break 3', 'Center(C)', 96, 37, 0.3854166666666667],\n",
       " ['Above the Break 3', 'Left Side Center(LC)', 146, 43, 0.2945205479452055],\n",
       " ['Above the Break 3', 'Right Side Center(RC)', 142, 51, 0.3591549295774648],\n",
       " ['Left Corner 3', 'Left Side(L)', 48, 17, 0.3541666666666667],\n",
       " ['Right Corner 3', 'Right Side(R)', 24, 9, 0.375],\n",
       " ['Backcourt', 'Back Court(BC)', 1, 0, 0.0],\n",
       " ['Restricted Area', 'Center(C)', 311, 193, 0.6205787781350482],\n",
       " ['In The Paint (Non-RA)', 'Center(C)', 78, 14, 0.1794871794871795],\n",
       " ['Mid-Range', 'Center(C)', 35, 12, 0.34285714285714286]]"
      ]
     },
     "execution_count": 72,
     "metadata": {},
     "output_type": "execute_result"
    }
   ],
   "source": [
    "list_of_lists"
   ]
  },
  {
   "cell_type": "markdown",
   "metadata": {},
   "source": [
    "##### 1.1.4.5 Two point shots [Mid Range (All Left Side and Left Center and Left Paint Shots)] "
   ]
  },
  {
   "cell_type": "code",
   "execution_count": 73,
   "metadata": {},
   "outputs": [],
   "source": [
    "# Missed Midrange Left Sided Two Pointers\n",
    "\n",
    "a = (df_player_shots[(df_player_shots['EVENT_TYPE'] == 'Missed Shot') & \n",
    "    (df_player_shots['SHOT_TYPE'] == '2PT Field Goal')& \n",
    "    (df_player_shots['SHOT_ZONE_BASIC'] == 'Mid-Range') &\n",
    "    (df_player_shots['SHOT_ZONE_AREA'] == 'Left Side(L)') ].count()['GRID_TYPE'])\n",
    "    # Left Side Midrange Shots\n",
    "\n",
    "b = (df_player_shots[(df_player_shots['EVENT_TYPE'] == 'Missed Shot') & \n",
    "    (df_player_shots['SHOT_TYPE'] == '2PT Field Goal')& \n",
    "    (df_player_shots['SHOT_ZONE_BASIC'] == 'Mid-Range') &\n",
    "    (df_player_shots['SHOT_ZONE_AREA'] == 'Left Side Center(LC)') ].count()['GRID_TYPE'])\n",
    "    # Left Side Midrange Center Shots\n",
    "\n",
    "c = (df_player_shots[(df_player_shots['EVENT_TYPE'] == 'Missed Shot') & \n",
    "    (df_player_shots['SHOT_TYPE'] == '2PT Field Goal')& \n",
    "    (df_player_shots['SHOT_ZONE_BASIC'] == 'In The Paint (Non-RA)') &\n",
    "    (df_player_shots['SHOT_ZONE_AREA'] == 'Left Side(L)') ].count()['GRID_TYPE'])\n",
    "    # Left Midrange Paint Strip Shots\n",
    "    \n",
    "missed_left_midrange_2pts = a + b + c"
   ]
  },
  {
   "cell_type": "code",
   "execution_count": 74,
   "metadata": {},
   "outputs": [],
   "source": [
    "# Made Midrange Left Sided Two Pointers\n",
    "\n",
    "a = (df_player_shots[(df_player_shots['EVENT_TYPE'] == 'Made Shot') & \n",
    "    (df_player_shots['SHOT_TYPE'] == '2PT Field Goal')& \n",
    "    (df_player_shots['SHOT_ZONE_BASIC'] == 'Mid-Range') &\n",
    "    (df_player_shots['SHOT_ZONE_AREA'] == 'Left Side(L)') ].count()['GRID_TYPE'])\n",
    "    # Left Side Midrange Shots\n",
    "\n",
    "b = (df_player_shots[(df_player_shots['EVENT_TYPE'] == 'Made Shot') & \n",
    "    (df_player_shots['SHOT_TYPE'] == '2PT Field Goal')& \n",
    "    (df_player_shots['SHOT_ZONE_BASIC'] == 'Mid-Range') &\n",
    "    (df_player_shots['SHOT_ZONE_AREA'] == 'Left Side Center(LC)') ].count()['GRID_TYPE'])\n",
    "    # Left Side Midrange Center Shots\n",
    "\n",
    "c = (df_player_shots[(df_player_shots['EVENT_TYPE'] == 'Made Shot') & \n",
    "    (df_player_shots['SHOT_TYPE'] == '2PT Field Goal')& \n",
    "    (df_player_shots['SHOT_ZONE_BASIC'] == 'In The Paint (Non-RA)') &\n",
    "    (df_player_shots['SHOT_ZONE_AREA'] == 'Left Side(L)') ].count()['GRID_TYPE'])\n",
    "    # Left Midrange Paint Strip Shots\n",
    "    \n",
    "made_left_midrange_2pts = a + b + c"
   ]
  },
  {
   "cell_type": "code",
   "execution_count": 75,
   "metadata": {},
   "outputs": [],
   "source": [
    "# Field Goal Percentage\n",
    "\n",
    "percentage_left_midrange_2pts = made_left_midrange_2pts/(missed_left_midrange_2pts + made_left_midrange_2pts)"
   ]
  },
  {
   "cell_type": "code",
   "execution_count": 76,
   "metadata": {},
   "outputs": [],
   "source": [
    "list_of_lists.append(['Mid-Range','Left Side(L)',(missed_left_midrange_2pts + made_left_midrange_2pts),\\\n",
    "                      made_left_midrange_2pts,percentage_left_midrange_2pts])"
   ]
  },
  {
   "cell_type": "code",
   "execution_count": 77,
   "metadata": {
    "scrolled": false
   },
   "outputs": [
    {
     "data": {
      "text/plain": [
       "[['Above the Break 3', 'Center(C)', 96, 37, 0.3854166666666667],\n",
       " ['Above the Break 3', 'Left Side Center(LC)', 146, 43, 0.2945205479452055],\n",
       " ['Above the Break 3', 'Right Side Center(RC)', 142, 51, 0.3591549295774648],\n",
       " ['Left Corner 3', 'Left Side(L)', 48, 17, 0.3541666666666667],\n",
       " ['Right Corner 3', 'Right Side(R)', 24, 9, 0.375],\n",
       " ['Backcourt', 'Back Court(BC)', 1, 0, 0.0],\n",
       " ['Restricted Area', 'Center(C)', 311, 193, 0.6205787781350482],\n",
       " ['In The Paint (Non-RA)', 'Center(C)', 78, 14, 0.1794871794871795],\n",
       " ['Mid-Range', 'Center(C)', 35, 12, 0.34285714285714286],\n",
       " ['Mid-Range', 'Left Side(L)', 26, 11, 0.4230769230769231]]"
      ]
     },
     "execution_count": 77,
     "metadata": {},
     "output_type": "execute_result"
    }
   ],
   "source": [
    "list_of_lists"
   ]
  },
  {
   "cell_type": "markdown",
   "metadata": {},
   "source": [
    "##### 1.1.4.6 Two point shots [Mid Range (All Right Side and Right Center and Right Paint Shots)] "
   ]
  },
  {
   "cell_type": "code",
   "execution_count": 78,
   "metadata": {},
   "outputs": [],
   "source": [
    "# Missed Midrange Right Sided Shots\n",
    "\n",
    "d = (df_player_shots[(df_player_shots['EVENT_TYPE'] == 'Missed Shot') & \n",
    "    (df_player_shots['SHOT_TYPE'] == '2PT Field Goal')& \n",
    "    (df_player_shots['SHOT_ZONE_BASIC'] == 'Mid-Range') &\n",
    "    (df_player_shots['SHOT_ZONE_AREA'] == 'Right Side(R)') ].count()['GRID_TYPE'])\n",
    "    # Right Side Midrange Shots\n",
    "\n",
    "e = (df_player_shots[(df_player_shots['EVENT_TYPE'] == 'Missed Shot') & \n",
    "    (df_player_shots['SHOT_TYPE'] == '2PT Field Goal')& \n",
    "    (df_player_shots['SHOT_ZONE_BASIC'] == 'Mid-Range') &\n",
    "    (df_player_shots['SHOT_ZONE_AREA'] == 'Right Side Center(RC)') ].count()['GRID_TYPE'])\n",
    "    # Right Side Midrange Center Shots\n",
    "\n",
    "f = (df_player_shots[(df_player_shots['EVENT_TYPE'] == 'Missed Shot') & \n",
    "    (df_player_shots['SHOT_TYPE'] == '2PT Field Goal')& \n",
    "    (df_player_shots['SHOT_ZONE_BASIC'] == 'In The Paint (Non-RA)') &\n",
    "    (df_player_shots['SHOT_ZONE_AREA'] == 'Right Side(R)') ].count()['GRID_TYPE'])\n",
    "    # Right Midrange Paint Strip Shots\n",
    "    \n",
    "missed_right_midrange_2pts = d + e + f"
   ]
  },
  {
   "cell_type": "code",
   "execution_count": 79,
   "metadata": {},
   "outputs": [],
   "source": [
    "# Made Midrange Right Sided Shots\n",
    "\n",
    "d = (df_player_shots[(df_player_shots['EVENT_TYPE'] == 'Made Shot') & \n",
    "    (df_player_shots['SHOT_TYPE'] == '2PT Field Goal')& \n",
    "    (df_player_shots['SHOT_ZONE_BASIC'] == 'Mid-Range') &\n",
    "    (df_player_shots['SHOT_ZONE_AREA'] == 'Right Side(R)') ].count()['GRID_TYPE'])\n",
    "    # Right Side Midrange Shots\n",
    "\n",
    "e = (df_player_shots[(df_player_shots['EVENT_TYPE'] == 'Made Shot') & \n",
    "    (df_player_shots['SHOT_TYPE'] == '2PT Field Goal')& \n",
    "    (df_player_shots['SHOT_ZONE_BASIC'] == 'Mid-Range') &\n",
    "    (df_player_shots['SHOT_ZONE_AREA'] == 'Right Side Center(RC)') ].count()['GRID_TYPE'])\n",
    "    # Right Side Midrange Center Shots\n",
    "\n",
    "f = (df_player_shots[(df_player_shots['EVENT_TYPE'] == 'Made Shot') & \n",
    "    (df_player_shots['SHOT_TYPE'] == '2PT Field Goal')& \n",
    "    (df_player_shots['SHOT_ZONE_BASIC'] == 'In The Paint (Non-RA)') &\n",
    "    (df_player_shots['SHOT_ZONE_AREA'] == 'Right Side(R)') ].count()['GRID_TYPE'])\n",
    "    # Right Midrange Paint Strip Shots\n",
    "    \n",
    "made_right_midrange_2pts = d + e + f"
   ]
  },
  {
   "cell_type": "code",
   "execution_count": 80,
   "metadata": {},
   "outputs": [],
   "source": [
    "# Field Goal Percentage\n",
    "\n",
    "percentage_right_midrange_2pts = made_right_midrange_2pts/(missed_right_midrange_2pts + made_right_midrange_2pts)"
   ]
  },
  {
   "cell_type": "code",
   "execution_count": 81,
   "metadata": {},
   "outputs": [],
   "source": [
    "list_of_lists.append(['Mid-Range','Right Side(R)',(missed_right_midrange_2pts + made_right_midrange_2pts),\\\n",
    "                      made_right_midrange_2pts,percentage_right_midrange_2pts])"
   ]
  },
  {
   "cell_type": "code",
   "execution_count": 82,
   "metadata": {
    "scrolled": true
   },
   "outputs": [
    {
     "data": {
      "text/plain": [
       "[['Above the Break 3', 'Center(C)', 96, 37, 0.3854166666666667],\n",
       " ['Above the Break 3', 'Left Side Center(LC)', 146, 43, 0.2945205479452055],\n",
       " ['Above the Break 3', 'Right Side Center(RC)', 142, 51, 0.3591549295774648],\n",
       " ['Left Corner 3', 'Left Side(L)', 48, 17, 0.3541666666666667],\n",
       " ['Right Corner 3', 'Right Side(R)', 24, 9, 0.375],\n",
       " ['Backcourt', 'Back Court(BC)', 1, 0, 0.0],\n",
       " ['Restricted Area', 'Center(C)', 311, 193, 0.6205787781350482],\n",
       " ['In The Paint (Non-RA)', 'Center(C)', 78, 14, 0.1794871794871795],\n",
       " ['Mid-Range', 'Center(C)', 35, 12, 0.34285714285714286],\n",
       " ['Mid-Range', 'Left Side(L)', 26, 11, 0.4230769230769231],\n",
       " ['Mid-Range', 'Right Side(R)', 46, 19, 0.41304347826086957]]"
      ]
     },
     "execution_count": 82,
     "metadata": {},
     "output_type": "execute_result"
    }
   ],
   "source": [
    "list_of_lists"
   ]
  },
  {
   "cell_type": "markdown",
   "metadata": {},
   "source": [
    "### 1.2 League Average Table Updated"
   ]
  },
  {
   "cell_type": "code",
   "execution_count": 83,
   "metadata": {},
   "outputs": [],
   "source": [
    "# Convert List of Lists to a Panda Data Frame\n",
    "player_df = pd.DataFrame(list_of_lists, columns=['SHOT_ZONE_BASIC','SHOT_ZONE_AREA','PLAYER_FGA',\\\n",
    "                                                 'PLAYER_FGM', 'FG_PLAYER_PCT'])"
   ]
  },
  {
   "cell_type": "code",
   "execution_count": 84,
   "metadata": {},
   "outputs": [
    {
     "data": {
      "text/html": [
       "<div>\n",
       "<style scoped>\n",
       "    .dataframe tbody tr th:only-of-type {\n",
       "        vertical-align: middle;\n",
       "    }\n",
       "\n",
       "    .dataframe tbody tr th {\n",
       "        vertical-align: top;\n",
       "    }\n",
       "\n",
       "    .dataframe thead th {\n",
       "        text-align: right;\n",
       "    }\n",
       "</style>\n",
       "<table border=\"1\" class=\"dataframe\">\n",
       "  <thead>\n",
       "    <tr style=\"text-align: right;\">\n",
       "      <th></th>\n",
       "      <th>SHOT_ZONE_BASIC</th>\n",
       "      <th>SHOT_ZONE_AREA</th>\n",
       "      <th>PLAYER_FGA</th>\n",
       "      <th>PLAYER_FGM</th>\n",
       "      <th>FG_PLAYER_PCT</th>\n",
       "    </tr>\n",
       "  </thead>\n",
       "  <tbody>\n",
       "    <tr>\n",
       "      <th>0</th>\n",
       "      <td>Above the Break 3</td>\n",
       "      <td>Center(C)</td>\n",
       "      <td>96</td>\n",
       "      <td>37</td>\n",
       "      <td>0.385417</td>\n",
       "    </tr>\n",
       "    <tr>\n",
       "      <th>1</th>\n",
       "      <td>Above the Break 3</td>\n",
       "      <td>Left Side Center(LC)</td>\n",
       "      <td>146</td>\n",
       "      <td>43</td>\n",
       "      <td>0.294521</td>\n",
       "    </tr>\n",
       "    <tr>\n",
       "      <th>2</th>\n",
       "      <td>Above the Break 3</td>\n",
       "      <td>Right Side Center(RC)</td>\n",
       "      <td>142</td>\n",
       "      <td>51</td>\n",
       "      <td>0.359155</td>\n",
       "    </tr>\n",
       "    <tr>\n",
       "      <th>3</th>\n",
       "      <td>Left Corner 3</td>\n",
       "      <td>Left Side(L)</td>\n",
       "      <td>48</td>\n",
       "      <td>17</td>\n",
       "      <td>0.354167</td>\n",
       "    </tr>\n",
       "    <tr>\n",
       "      <th>4</th>\n",
       "      <td>Right Corner 3</td>\n",
       "      <td>Right Side(R)</td>\n",
       "      <td>24</td>\n",
       "      <td>9</td>\n",
       "      <td>0.375000</td>\n",
       "    </tr>\n",
       "    <tr>\n",
       "      <th>5</th>\n",
       "      <td>Backcourt</td>\n",
       "      <td>Back Court(BC)</td>\n",
       "      <td>1</td>\n",
       "      <td>0</td>\n",
       "      <td>0.000000</td>\n",
       "    </tr>\n",
       "    <tr>\n",
       "      <th>6</th>\n",
       "      <td>Restricted Area</td>\n",
       "      <td>Center(C)</td>\n",
       "      <td>311</td>\n",
       "      <td>193</td>\n",
       "      <td>0.620579</td>\n",
       "    </tr>\n",
       "    <tr>\n",
       "      <th>7</th>\n",
       "      <td>In The Paint (Non-RA)</td>\n",
       "      <td>Center(C)</td>\n",
       "      <td>78</td>\n",
       "      <td>14</td>\n",
       "      <td>0.179487</td>\n",
       "    </tr>\n",
       "    <tr>\n",
       "      <th>8</th>\n",
       "      <td>Mid-Range</td>\n",
       "      <td>Center(C)</td>\n",
       "      <td>35</td>\n",
       "      <td>12</td>\n",
       "      <td>0.342857</td>\n",
       "    </tr>\n",
       "    <tr>\n",
       "      <th>9</th>\n",
       "      <td>Mid-Range</td>\n",
       "      <td>Left Side(L)</td>\n",
       "      <td>26</td>\n",
       "      <td>11</td>\n",
       "      <td>0.423077</td>\n",
       "    </tr>\n",
       "    <tr>\n",
       "      <th>10</th>\n",
       "      <td>Mid-Range</td>\n",
       "      <td>Right Side(R)</td>\n",
       "      <td>46</td>\n",
       "      <td>19</td>\n",
       "      <td>0.413043</td>\n",
       "    </tr>\n",
       "  </tbody>\n",
       "</table>\n",
       "</div>"
      ],
      "text/plain": [
       "          SHOT_ZONE_BASIC         SHOT_ZONE_AREA  PLAYER_FGA  PLAYER_FGM  \\\n",
       "0       Above the Break 3              Center(C)          96          37   \n",
       "1       Above the Break 3   Left Side Center(LC)         146          43   \n",
       "2       Above the Break 3  Right Side Center(RC)         142          51   \n",
       "3           Left Corner 3           Left Side(L)          48          17   \n",
       "4          Right Corner 3          Right Side(R)          24           9   \n",
       "5               Backcourt         Back Court(BC)           1           0   \n",
       "6         Restricted Area              Center(C)         311         193   \n",
       "7   In The Paint (Non-RA)              Center(C)          78          14   \n",
       "8               Mid-Range              Center(C)          35          12   \n",
       "9               Mid-Range           Left Side(L)          26          11   \n",
       "10              Mid-Range          Right Side(R)          46          19   \n",
       "\n",
       "    FG_PLAYER_PCT  \n",
       "0        0.385417  \n",
       "1        0.294521  \n",
       "2        0.359155  \n",
       "3        0.354167  \n",
       "4        0.375000  \n",
       "5        0.000000  \n",
       "6        0.620579  \n",
       "7        0.179487  \n",
       "8        0.342857  \n",
       "9        0.423077  \n",
       "10       0.413043  "
      ]
     },
     "execution_count": 84,
     "metadata": {},
     "output_type": "execute_result"
    }
   ],
   "source": [
    "# Inspect Data Frame\n",
    "player_df"
   ]
  },
  {
   "cell_type": "code",
   "execution_count": 85,
   "metadata": {},
   "outputs": [],
   "source": [
    "# Generate League Average for the Season in Question\n",
    "\n",
    "df_league_average = ShotChartDetail(\n",
    "    season_nullable= season_nullable, # Utilizes Same Season as the Player\n",
    "    player_id = player_id, # Utilizes Player ID although this does not affect the list position we are extracting [1]\n",
    "    team_id=team_id, # Same Team ID as player but does does not affect the list position we are extracting here [1]\n",
    "    context_measure_simple=\"FGA\" # Explained Before\n",
    ").get_data_frames()[1]"
   ]
  },
  {
   "cell_type": "code",
   "execution_count": 86,
   "metadata": {},
   "outputs": [],
   "source": [
    "# Refine League DataFrame to be Similar to Player Data Frame\n",
    "# Drop Disimilar columns\n",
    "\n",
    "df_league_average_refined = df_league_average.drop(columns=['SHOT_ZONE_RANGE','GRID_TYPE','FG_PCT'])"
   ]
  },
  {
   "cell_type": "code",
   "execution_count": 87,
   "metadata": {},
   "outputs": [
    {
     "data": {
      "text/html": [
       "<div>\n",
       "<style scoped>\n",
       "    .dataframe tbody tr th:only-of-type {\n",
       "        vertical-align: middle;\n",
       "    }\n",
       "\n",
       "    .dataframe tbody tr th {\n",
       "        vertical-align: top;\n",
       "    }\n",
       "\n",
       "    .dataframe thead th {\n",
       "        text-align: right;\n",
       "    }\n",
       "</style>\n",
       "<table border=\"1\" class=\"dataframe\">\n",
       "  <thead>\n",
       "    <tr style=\"text-align: right;\">\n",
       "      <th></th>\n",
       "      <th>SHOT_ZONE_BASIC</th>\n",
       "      <th>SHOT_ZONE_AREA</th>\n",
       "      <th>FGA</th>\n",
       "      <th>FGM</th>\n",
       "    </tr>\n",
       "  </thead>\n",
       "  <tbody>\n",
       "    <tr>\n",
       "      <th>0</th>\n",
       "      <td>Above the Break 3</td>\n",
       "      <td>Back Court(BC)</td>\n",
       "      <td>35</td>\n",
       "      <td>4</td>\n",
       "    </tr>\n",
       "    <tr>\n",
       "      <th>1</th>\n",
       "      <td>Above the Break 3</td>\n",
       "      <td>Center(C)</td>\n",
       "      <td>16368</td>\n",
       "      <td>5613</td>\n",
       "    </tr>\n",
       "    <tr>\n",
       "      <th>2</th>\n",
       "      <td>Above the Break 3</td>\n",
       "      <td>Left Side Center(LC)</td>\n",
       "      <td>24924</td>\n",
       "      <td>8511</td>\n",
       "    </tr>\n",
       "    <tr>\n",
       "      <th>3</th>\n",
       "      <td>Above the Break 3</td>\n",
       "      <td>Right Side Center(RC)</td>\n",
       "      <td>23120</td>\n",
       "      <td>8171</td>\n",
       "    </tr>\n",
       "    <tr>\n",
       "      <th>4</th>\n",
       "      <td>Backcourt</td>\n",
       "      <td>Back Court(BC)</td>\n",
       "      <td>440</td>\n",
       "      <td>11</td>\n",
       "    </tr>\n",
       "  </tbody>\n",
       "</table>\n",
       "</div>"
      ],
      "text/plain": [
       "     SHOT_ZONE_BASIC         SHOT_ZONE_AREA    FGA   FGM\n",
       "0  Above the Break 3         Back Court(BC)     35     4\n",
       "1  Above the Break 3              Center(C)  16368  5613\n",
       "2  Above the Break 3   Left Side Center(LC)  24924  8511\n",
       "3  Above the Break 3  Right Side Center(RC)  23120  8171\n",
       "4          Backcourt         Back Court(BC)    440    11"
      ]
     },
     "execution_count": 87,
     "metadata": {},
     "output_type": "execute_result"
    }
   ],
   "source": [
    "df_league_average_refined.head()"
   ]
  },
  {
   "cell_type": "code",
   "execution_count": 88,
   "metadata": {},
   "outputs": [],
   "source": [
    "# Rename the fields \n",
    "# Row 1: Re-classified above the break 3 shots from the backcourt as Backcourt shots\n",
    "# Rows 7 and 8: Originally classified as in the paint, but can be re-classified as midrange shots\n",
    "# from either left or right side\n",
    "# Rows 12 and 15: Left/Right Side Center classified as just Right and Left to simplify things\n",
    "\n",
    "df_league_average_refined.loc[0:0,'SHOT_ZONE_BASIC'] = 'Backcourt' # Change [Above the Break 3] to [Backcourt]\n",
    "df_league_average_refined.loc[7:7,'SHOT_ZONE_BASIC'] = 'Mid-Range' # Change [In The Paint (Non-RA)] to [Mid-Range]\n",
    "df_league_average_refined.loc[8:8,'SHOT_ZONE_BASIC'] = 'Mid-Range' # Change [In The Paint (Non-RA)] to [Mid-Range]\n",
    "df_league_average_refined.loc[12:12,'SHOT_ZONE_AREA'] = 'Left Side(L)' # Change [In The Paint (Non-RA)] to [Mid-Range]\n",
    "df_league_average_refined.loc[15:15,'SHOT_ZONE_AREA'] = 'Right Side(R)' # Change [In The Paint (Non-RA)] to [Mid-Range]"
   ]
  },
  {
   "cell_type": "code",
   "execution_count": 89,
   "metadata": {},
   "outputs": [
    {
     "data": {
      "text/html": [
       "<div>\n",
       "<style scoped>\n",
       "    .dataframe tbody tr th:only-of-type {\n",
       "        vertical-align: middle;\n",
       "    }\n",
       "\n",
       "    .dataframe tbody tr th {\n",
       "        vertical-align: top;\n",
       "    }\n",
       "\n",
       "    .dataframe thead th {\n",
       "        text-align: right;\n",
       "    }\n",
       "</style>\n",
       "<table border=\"1\" class=\"dataframe\">\n",
       "  <thead>\n",
       "    <tr style=\"text-align: right;\">\n",
       "      <th></th>\n",
       "      <th>SHOT_ZONE_BASIC</th>\n",
       "      <th>SHOT_ZONE_AREA</th>\n",
       "      <th>FGA</th>\n",
       "      <th>FGM</th>\n",
       "    </tr>\n",
       "  </thead>\n",
       "  <tbody>\n",
       "    <tr>\n",
       "      <th>0</th>\n",
       "      <td>Backcourt</td>\n",
       "      <td>Back Court(BC)</td>\n",
       "      <td>35</td>\n",
       "      <td>4</td>\n",
       "    </tr>\n",
       "    <tr>\n",
       "      <th>1</th>\n",
       "      <td>Above the Break 3</td>\n",
       "      <td>Center(C)</td>\n",
       "      <td>16368</td>\n",
       "      <td>5613</td>\n",
       "    </tr>\n",
       "    <tr>\n",
       "      <th>2</th>\n",
       "      <td>Above the Break 3</td>\n",
       "      <td>Left Side Center(LC)</td>\n",
       "      <td>24924</td>\n",
       "      <td>8511</td>\n",
       "    </tr>\n",
       "    <tr>\n",
       "      <th>3</th>\n",
       "      <td>Above the Break 3</td>\n",
       "      <td>Right Side Center(RC)</td>\n",
       "      <td>23120</td>\n",
       "      <td>8171</td>\n",
       "    </tr>\n",
       "    <tr>\n",
       "      <th>4</th>\n",
       "      <td>Backcourt</td>\n",
       "      <td>Back Court(BC)</td>\n",
       "      <td>440</td>\n",
       "      <td>11</td>\n",
       "    </tr>\n",
       "    <tr>\n",
       "      <th>5</th>\n",
       "      <td>In The Paint (Non-RA)</td>\n",
       "      <td>Center(C)</td>\n",
       "      <td>23351</td>\n",
       "      <td>9813</td>\n",
       "    </tr>\n",
       "    <tr>\n",
       "      <th>6</th>\n",
       "      <td>In The Paint (Non-RA)</td>\n",
       "      <td>Center(C)</td>\n",
       "      <td>11777</td>\n",
       "      <td>5228</td>\n",
       "    </tr>\n",
       "    <tr>\n",
       "      <th>7</th>\n",
       "      <td>Mid-Range</td>\n",
       "      <td>Left Side(L)</td>\n",
       "      <td>2197</td>\n",
       "      <td>949</td>\n",
       "    </tr>\n",
       "    <tr>\n",
       "      <th>8</th>\n",
       "      <td>Mid-Range</td>\n",
       "      <td>Right Side(R)</td>\n",
       "      <td>2343</td>\n",
       "      <td>1000</td>\n",
       "    </tr>\n",
       "    <tr>\n",
       "      <th>9</th>\n",
       "      <td>Left Corner 3</td>\n",
       "      <td>Left Side(L)</td>\n",
       "      <td>11377</td>\n",
       "      <td>4371</td>\n",
       "    </tr>\n",
       "    <tr>\n",
       "      <th>10</th>\n",
       "      <td>Mid-Range</td>\n",
       "      <td>Center(C)</td>\n",
       "      <td>2088</td>\n",
       "      <td>921</td>\n",
       "    </tr>\n",
       "    <tr>\n",
       "      <th>11</th>\n",
       "      <td>Mid-Range</td>\n",
       "      <td>Center(C)</td>\n",
       "      <td>4165</td>\n",
       "      <td>1743</td>\n",
       "    </tr>\n",
       "    <tr>\n",
       "      <th>12</th>\n",
       "      <td>Mid-Range</td>\n",
       "      <td>Left Side(L)</td>\n",
       "      <td>3972</td>\n",
       "      <td>1632</td>\n",
       "    </tr>\n",
       "    <tr>\n",
       "      <th>13</th>\n",
       "      <td>Mid-Range</td>\n",
       "      <td>Left Side(L)</td>\n",
       "      <td>1680</td>\n",
       "      <td>613</td>\n",
       "    </tr>\n",
       "    <tr>\n",
       "      <th>14</th>\n",
       "      <td>Mid-Range</td>\n",
       "      <td>Left Side(L)</td>\n",
       "      <td>5014</td>\n",
       "      <td>2023</td>\n",
       "    </tr>\n",
       "    <tr>\n",
       "      <th>15</th>\n",
       "      <td>Mid-Range</td>\n",
       "      <td>Right Side(R)</td>\n",
       "      <td>4043</td>\n",
       "      <td>1575</td>\n",
       "    </tr>\n",
       "    <tr>\n",
       "      <th>16</th>\n",
       "      <td>Mid-Range</td>\n",
       "      <td>Right Side(R)</td>\n",
       "      <td>1609</td>\n",
       "      <td>614</td>\n",
       "    </tr>\n",
       "    <tr>\n",
       "      <th>17</th>\n",
       "      <td>Mid-Range</td>\n",
       "      <td>Right Side(R)</td>\n",
       "      <td>5141</td>\n",
       "      <td>2143</td>\n",
       "    </tr>\n",
       "    <tr>\n",
       "      <th>18</th>\n",
       "      <td>Restricted Area</td>\n",
       "      <td>Center(C)</td>\n",
       "      <td>62987</td>\n",
       "      <td>41140</td>\n",
       "    </tr>\n",
       "    <tr>\n",
       "      <th>19</th>\n",
       "      <td>Right Corner 3</td>\n",
       "      <td>Right Side(R)</td>\n",
       "      <td>10091</td>\n",
       "      <td>3855</td>\n",
       "    </tr>\n",
       "  </tbody>\n",
       "</table>\n",
       "</div>"
      ],
      "text/plain": [
       "          SHOT_ZONE_BASIC         SHOT_ZONE_AREA    FGA    FGM\n",
       "0               Backcourt         Back Court(BC)     35      4\n",
       "1       Above the Break 3              Center(C)  16368   5613\n",
       "2       Above the Break 3   Left Side Center(LC)  24924   8511\n",
       "3       Above the Break 3  Right Side Center(RC)  23120   8171\n",
       "4               Backcourt         Back Court(BC)    440     11\n",
       "5   In The Paint (Non-RA)              Center(C)  23351   9813\n",
       "6   In The Paint (Non-RA)              Center(C)  11777   5228\n",
       "7               Mid-Range           Left Side(L)   2197    949\n",
       "8               Mid-Range          Right Side(R)   2343   1000\n",
       "9           Left Corner 3           Left Side(L)  11377   4371\n",
       "10              Mid-Range              Center(C)   2088    921\n",
       "11              Mid-Range              Center(C)   4165   1743\n",
       "12              Mid-Range           Left Side(L)   3972   1632\n",
       "13              Mid-Range           Left Side(L)   1680    613\n",
       "14              Mid-Range           Left Side(L)   5014   2023\n",
       "15              Mid-Range          Right Side(R)   4043   1575\n",
       "16              Mid-Range          Right Side(R)   1609    614\n",
       "17              Mid-Range          Right Side(R)   5141   2143\n",
       "18        Restricted Area              Center(C)  62987  41140\n",
       "19         Right Corner 3          Right Side(R)  10091   3855"
      ]
     },
     "execution_count": 89,
     "metadata": {},
     "output_type": "execute_result"
    }
   ],
   "source": [
    "df_league_average_refined"
   ]
  },
  {
   "cell_type": "code",
   "execution_count": 90,
   "metadata": {},
   "outputs": [],
   "source": [
    "# Aggregate and Sum over similar SHOT_ZONE_BASIC and SHOT_ZONE_AREA values\n",
    "\n",
    "df_league_average_refined = df_league_average_refined.groupby(['SHOT_ZONE_BASIC','SHOT_ZONE_AREA'])\\\n",
    "                             .agg({'FGA': [sum],'FGM': [sum]})"
   ]
  },
  {
   "cell_type": "code",
   "execution_count": 91,
   "metadata": {},
   "outputs": [
    {
     "data": {
      "text/html": [
       "<div>\n",
       "<style scoped>\n",
       "    .dataframe tbody tr th:only-of-type {\n",
       "        vertical-align: middle;\n",
       "    }\n",
       "\n",
       "    .dataframe tbody tr th {\n",
       "        vertical-align: top;\n",
       "    }\n",
       "\n",
       "    .dataframe thead tr th {\n",
       "        text-align: left;\n",
       "    }\n",
       "\n",
       "    .dataframe thead tr:last-of-type th {\n",
       "        text-align: right;\n",
       "    }\n",
       "</style>\n",
       "<table border=\"1\" class=\"dataframe\">\n",
       "  <thead>\n",
       "    <tr>\n",
       "      <th></th>\n",
       "      <th></th>\n",
       "      <th>FGA</th>\n",
       "      <th>FGM</th>\n",
       "    </tr>\n",
       "    <tr>\n",
       "      <th></th>\n",
       "      <th></th>\n",
       "      <th>sum</th>\n",
       "      <th>sum</th>\n",
       "    </tr>\n",
       "    <tr>\n",
       "      <th>SHOT_ZONE_BASIC</th>\n",
       "      <th>SHOT_ZONE_AREA</th>\n",
       "      <th></th>\n",
       "      <th></th>\n",
       "    </tr>\n",
       "  </thead>\n",
       "  <tbody>\n",
       "    <tr>\n",
       "      <th rowspan=\"3\" valign=\"top\">Above the Break 3</th>\n",
       "      <th>Center(C)</th>\n",
       "      <td>16368</td>\n",
       "      <td>5613</td>\n",
       "    </tr>\n",
       "    <tr>\n",
       "      <th>Left Side Center(LC)</th>\n",
       "      <td>24924</td>\n",
       "      <td>8511</td>\n",
       "    </tr>\n",
       "    <tr>\n",
       "      <th>Right Side Center(RC)</th>\n",
       "      <td>23120</td>\n",
       "      <td>8171</td>\n",
       "    </tr>\n",
       "    <tr>\n",
       "      <th>Backcourt</th>\n",
       "      <th>Back Court(BC)</th>\n",
       "      <td>475</td>\n",
       "      <td>15</td>\n",
       "    </tr>\n",
       "    <tr>\n",
       "      <th>In The Paint (Non-RA)</th>\n",
       "      <th>Center(C)</th>\n",
       "      <td>35128</td>\n",
       "      <td>15041</td>\n",
       "    </tr>\n",
       "    <tr>\n",
       "      <th>Left Corner 3</th>\n",
       "      <th>Left Side(L)</th>\n",
       "      <td>11377</td>\n",
       "      <td>4371</td>\n",
       "    </tr>\n",
       "    <tr>\n",
       "      <th rowspan=\"3\" valign=\"top\">Mid-Range</th>\n",
       "      <th>Center(C)</th>\n",
       "      <td>6253</td>\n",
       "      <td>2664</td>\n",
       "    </tr>\n",
       "    <tr>\n",
       "      <th>Left Side(L)</th>\n",
       "      <td>12863</td>\n",
       "      <td>5217</td>\n",
       "    </tr>\n",
       "    <tr>\n",
       "      <th>Right Side(R)</th>\n",
       "      <td>13136</td>\n",
       "      <td>5332</td>\n",
       "    </tr>\n",
       "    <tr>\n",
       "      <th>Restricted Area</th>\n",
       "      <th>Center(C)</th>\n",
       "      <td>62987</td>\n",
       "      <td>41140</td>\n",
       "    </tr>\n",
       "    <tr>\n",
       "      <th>Right Corner 3</th>\n",
       "      <th>Right Side(R)</th>\n",
       "      <td>10091</td>\n",
       "      <td>3855</td>\n",
       "    </tr>\n",
       "  </tbody>\n",
       "</table>\n",
       "</div>"
      ],
      "text/plain": [
       "                                               FGA    FGM\n",
       "                                               sum    sum\n",
       "SHOT_ZONE_BASIC       SHOT_ZONE_AREA                     \n",
       "Above the Break 3     Center(C)              16368   5613\n",
       "                      Left Side Center(LC)   24924   8511\n",
       "                      Right Side Center(RC)  23120   8171\n",
       "Backcourt             Back Court(BC)           475     15\n",
       "In The Paint (Non-RA) Center(C)              35128  15041\n",
       "Left Corner 3         Left Side(L)           11377   4371\n",
       "Mid-Range             Center(C)               6253   2664\n",
       "                      Left Side(L)           12863   5217\n",
       "                      Right Side(R)          13136   5332\n",
       "Restricted Area       Center(C)              62987  41140\n",
       "Right Corner 3        Right Side(R)          10091   3855"
      ]
     },
     "execution_count": 91,
     "metadata": {},
     "output_type": "execute_result"
    }
   ],
   "source": [
    "df_league_average_refined"
   ]
  },
  {
   "cell_type": "code",
   "execution_count": 92,
   "metadata": {},
   "outputs": [],
   "source": [
    "# Aggregate Creates an array for column title, so we reset index to eliminate the extra column title\n",
    "\n",
    "df_league_average_refined = df_league_average_refined.droplevel(axis=1, level=1).reset_index()"
   ]
  },
  {
   "cell_type": "code",
   "execution_count": 93,
   "metadata": {},
   "outputs": [
    {
     "data": {
      "text/html": [
       "<div>\n",
       "<style scoped>\n",
       "    .dataframe tbody tr th:only-of-type {\n",
       "        vertical-align: middle;\n",
       "    }\n",
       "\n",
       "    .dataframe tbody tr th {\n",
       "        vertical-align: top;\n",
       "    }\n",
       "\n",
       "    .dataframe thead th {\n",
       "        text-align: right;\n",
       "    }\n",
       "</style>\n",
       "<table border=\"1\" class=\"dataframe\">\n",
       "  <thead>\n",
       "    <tr style=\"text-align: right;\">\n",
       "      <th></th>\n",
       "      <th>SHOT_ZONE_BASIC</th>\n",
       "      <th>SHOT_ZONE_AREA</th>\n",
       "      <th>FGA</th>\n",
       "      <th>FGM</th>\n",
       "    </tr>\n",
       "  </thead>\n",
       "  <tbody>\n",
       "    <tr>\n",
       "      <th>0</th>\n",
       "      <td>Above the Break 3</td>\n",
       "      <td>Center(C)</td>\n",
       "      <td>16368</td>\n",
       "      <td>5613</td>\n",
       "    </tr>\n",
       "    <tr>\n",
       "      <th>1</th>\n",
       "      <td>Above the Break 3</td>\n",
       "      <td>Left Side Center(LC)</td>\n",
       "      <td>24924</td>\n",
       "      <td>8511</td>\n",
       "    </tr>\n",
       "    <tr>\n",
       "      <th>2</th>\n",
       "      <td>Above the Break 3</td>\n",
       "      <td>Right Side Center(RC)</td>\n",
       "      <td>23120</td>\n",
       "      <td>8171</td>\n",
       "    </tr>\n",
       "    <tr>\n",
       "      <th>3</th>\n",
       "      <td>Backcourt</td>\n",
       "      <td>Back Court(BC)</td>\n",
       "      <td>475</td>\n",
       "      <td>15</td>\n",
       "    </tr>\n",
       "    <tr>\n",
       "      <th>4</th>\n",
       "      <td>In The Paint (Non-RA)</td>\n",
       "      <td>Center(C)</td>\n",
       "      <td>35128</td>\n",
       "      <td>15041</td>\n",
       "    </tr>\n",
       "    <tr>\n",
       "      <th>5</th>\n",
       "      <td>Left Corner 3</td>\n",
       "      <td>Left Side(L)</td>\n",
       "      <td>11377</td>\n",
       "      <td>4371</td>\n",
       "    </tr>\n",
       "    <tr>\n",
       "      <th>6</th>\n",
       "      <td>Mid-Range</td>\n",
       "      <td>Center(C)</td>\n",
       "      <td>6253</td>\n",
       "      <td>2664</td>\n",
       "    </tr>\n",
       "    <tr>\n",
       "      <th>7</th>\n",
       "      <td>Mid-Range</td>\n",
       "      <td>Left Side(L)</td>\n",
       "      <td>12863</td>\n",
       "      <td>5217</td>\n",
       "    </tr>\n",
       "    <tr>\n",
       "      <th>8</th>\n",
       "      <td>Mid-Range</td>\n",
       "      <td>Right Side(R)</td>\n",
       "      <td>13136</td>\n",
       "      <td>5332</td>\n",
       "    </tr>\n",
       "    <tr>\n",
       "      <th>9</th>\n",
       "      <td>Restricted Area</td>\n",
       "      <td>Center(C)</td>\n",
       "      <td>62987</td>\n",
       "      <td>41140</td>\n",
       "    </tr>\n",
       "    <tr>\n",
       "      <th>10</th>\n",
       "      <td>Right Corner 3</td>\n",
       "      <td>Right Side(R)</td>\n",
       "      <td>10091</td>\n",
       "      <td>3855</td>\n",
       "    </tr>\n",
       "  </tbody>\n",
       "</table>\n",
       "</div>"
      ],
      "text/plain": [
       "          SHOT_ZONE_BASIC         SHOT_ZONE_AREA    FGA    FGM\n",
       "0       Above the Break 3              Center(C)  16368   5613\n",
       "1       Above the Break 3   Left Side Center(LC)  24924   8511\n",
       "2       Above the Break 3  Right Side Center(RC)  23120   8171\n",
       "3               Backcourt         Back Court(BC)    475     15\n",
       "4   In The Paint (Non-RA)              Center(C)  35128  15041\n",
       "5           Left Corner 3           Left Side(L)  11377   4371\n",
       "6               Mid-Range              Center(C)   6253   2664\n",
       "7               Mid-Range           Left Side(L)  12863   5217\n",
       "8               Mid-Range          Right Side(R)  13136   5332\n",
       "9         Restricted Area              Center(C)  62987  41140\n",
       "10         Right Corner 3          Right Side(R)  10091   3855"
      ]
     },
     "execution_count": 93,
     "metadata": {},
     "output_type": "execute_result"
    }
   ],
   "source": [
    "df_league_average_refined"
   ]
  },
  {
   "cell_type": "code",
   "execution_count": 94,
   "metadata": {},
   "outputs": [],
   "source": [
    "# Add FG_PCT Column\n",
    "\n",
    "df_league_average_refined['FG_PCT'] = df_league_average_refined['FGM']/df_league_average_refined['FGA']"
   ]
  },
  {
   "cell_type": "code",
   "execution_count": 95,
   "metadata": {},
   "outputs": [
    {
     "data": {
      "text/html": [
       "<div>\n",
       "<style scoped>\n",
       "    .dataframe tbody tr th:only-of-type {\n",
       "        vertical-align: middle;\n",
       "    }\n",
       "\n",
       "    .dataframe tbody tr th {\n",
       "        vertical-align: top;\n",
       "    }\n",
       "\n",
       "    .dataframe thead th {\n",
       "        text-align: right;\n",
       "    }\n",
       "</style>\n",
       "<table border=\"1\" class=\"dataframe\">\n",
       "  <thead>\n",
       "    <tr style=\"text-align: right;\">\n",
       "      <th></th>\n",
       "      <th>SHOT_ZONE_BASIC</th>\n",
       "      <th>SHOT_ZONE_AREA</th>\n",
       "      <th>FGA</th>\n",
       "      <th>FGM</th>\n",
       "      <th>FG_PCT</th>\n",
       "    </tr>\n",
       "  </thead>\n",
       "  <tbody>\n",
       "    <tr>\n",
       "      <th>0</th>\n",
       "      <td>Above the Break 3</td>\n",
       "      <td>Center(C)</td>\n",
       "      <td>16368</td>\n",
       "      <td>5613</td>\n",
       "      <td>0.342925</td>\n",
       "    </tr>\n",
       "    <tr>\n",
       "      <th>1</th>\n",
       "      <td>Above the Break 3</td>\n",
       "      <td>Left Side Center(LC)</td>\n",
       "      <td>24924</td>\n",
       "      <td>8511</td>\n",
       "      <td>0.341478</td>\n",
       "    </tr>\n",
       "    <tr>\n",
       "      <th>2</th>\n",
       "      <td>Above the Break 3</td>\n",
       "      <td>Right Side Center(RC)</td>\n",
       "      <td>23120</td>\n",
       "      <td>8171</td>\n",
       "      <td>0.353417</td>\n",
       "    </tr>\n",
       "    <tr>\n",
       "      <th>3</th>\n",
       "      <td>Backcourt</td>\n",
       "      <td>Back Court(BC)</td>\n",
       "      <td>475</td>\n",
       "      <td>15</td>\n",
       "      <td>0.031579</td>\n",
       "    </tr>\n",
       "    <tr>\n",
       "      <th>4</th>\n",
       "      <td>In The Paint (Non-RA)</td>\n",
       "      <td>Center(C)</td>\n",
       "      <td>35128</td>\n",
       "      <td>15041</td>\n",
       "      <td>0.428177</td>\n",
       "    </tr>\n",
       "  </tbody>\n",
       "</table>\n",
       "</div>"
      ],
      "text/plain": [
       "         SHOT_ZONE_BASIC         SHOT_ZONE_AREA    FGA    FGM    FG_PCT\n",
       "0      Above the Break 3              Center(C)  16368   5613  0.342925\n",
       "1      Above the Break 3   Left Side Center(LC)  24924   8511  0.341478\n",
       "2      Above the Break 3  Right Side Center(RC)  23120   8171  0.353417\n",
       "3              Backcourt         Back Court(BC)    475     15  0.031579\n",
       "4  In The Paint (Non-RA)              Center(C)  35128  15041  0.428177"
      ]
     },
     "execution_count": 95,
     "metadata": {},
     "output_type": "execute_result"
    }
   ],
   "source": [
    "df_league_average_refined.head()"
   ]
  },
  {
   "cell_type": "code",
   "execution_count": 96,
   "metadata": {},
   "outputs": [
    {
     "data": {
      "text/html": [
       "<div>\n",
       "<style scoped>\n",
       "    .dataframe tbody tr th:only-of-type {\n",
       "        vertical-align: middle;\n",
       "    }\n",
       "\n",
       "    .dataframe tbody tr th {\n",
       "        vertical-align: top;\n",
       "    }\n",
       "\n",
       "    .dataframe thead th {\n",
       "        text-align: right;\n",
       "    }\n",
       "</style>\n",
       "<table border=\"1\" class=\"dataframe\">\n",
       "  <thead>\n",
       "    <tr style=\"text-align: right;\">\n",
       "      <th></th>\n",
       "      <th>SHOT_ZONE_BASIC</th>\n",
       "      <th>SHOT_ZONE_AREA</th>\n",
       "      <th>FGA</th>\n",
       "      <th>FGM</th>\n",
       "      <th>FG_PCT</th>\n",
       "      <th>PLAYER_FGA</th>\n",
       "      <th>PLAYER_FGM</th>\n",
       "      <th>FG_PLAYER_PCT</th>\n",
       "    </tr>\n",
       "  </thead>\n",
       "  <tbody>\n",
       "    <tr>\n",
       "      <th>0</th>\n",
       "      <td>Above the Break 3</td>\n",
       "      <td>Center(C)</td>\n",
       "      <td>16368</td>\n",
       "      <td>5613</td>\n",
       "      <td>0.342925</td>\n",
       "      <td>96</td>\n",
       "      <td>37</td>\n",
       "      <td>0.385417</td>\n",
       "    </tr>\n",
       "    <tr>\n",
       "      <th>1</th>\n",
       "      <td>Above the Break 3</td>\n",
       "      <td>Left Side Center(LC)</td>\n",
       "      <td>24924</td>\n",
       "      <td>8511</td>\n",
       "      <td>0.341478</td>\n",
       "      <td>146</td>\n",
       "      <td>43</td>\n",
       "      <td>0.294521</td>\n",
       "    </tr>\n",
       "    <tr>\n",
       "      <th>2</th>\n",
       "      <td>Above the Break 3</td>\n",
       "      <td>Right Side Center(RC)</td>\n",
       "      <td>23120</td>\n",
       "      <td>8171</td>\n",
       "      <td>0.353417</td>\n",
       "      <td>142</td>\n",
       "      <td>51</td>\n",
       "      <td>0.359155</td>\n",
       "    </tr>\n",
       "    <tr>\n",
       "      <th>3</th>\n",
       "      <td>Backcourt</td>\n",
       "      <td>Back Court(BC)</td>\n",
       "      <td>475</td>\n",
       "      <td>15</td>\n",
       "      <td>0.031579</td>\n",
       "      <td>1</td>\n",
       "      <td>0</td>\n",
       "      <td>0.000000</td>\n",
       "    </tr>\n",
       "    <tr>\n",
       "      <th>4</th>\n",
       "      <td>In The Paint (Non-RA)</td>\n",
       "      <td>Center(C)</td>\n",
       "      <td>35128</td>\n",
       "      <td>15041</td>\n",
       "      <td>0.428177</td>\n",
       "      <td>78</td>\n",
       "      <td>14</td>\n",
       "      <td>0.179487</td>\n",
       "    </tr>\n",
       "    <tr>\n",
       "      <th>5</th>\n",
       "      <td>Left Corner 3</td>\n",
       "      <td>Left Side(L)</td>\n",
       "      <td>11377</td>\n",
       "      <td>4371</td>\n",
       "      <td>0.384196</td>\n",
       "      <td>48</td>\n",
       "      <td>17</td>\n",
       "      <td>0.354167</td>\n",
       "    </tr>\n",
       "    <tr>\n",
       "      <th>6</th>\n",
       "      <td>Mid-Range</td>\n",
       "      <td>Center(C)</td>\n",
       "      <td>6253</td>\n",
       "      <td>2664</td>\n",
       "      <td>0.426036</td>\n",
       "      <td>35</td>\n",
       "      <td>12</td>\n",
       "      <td>0.342857</td>\n",
       "    </tr>\n",
       "    <tr>\n",
       "      <th>7</th>\n",
       "      <td>Mid-Range</td>\n",
       "      <td>Left Side(L)</td>\n",
       "      <td>12863</td>\n",
       "      <td>5217</td>\n",
       "      <td>0.405582</td>\n",
       "      <td>26</td>\n",
       "      <td>11</td>\n",
       "      <td>0.423077</td>\n",
       "    </tr>\n",
       "    <tr>\n",
       "      <th>8</th>\n",
       "      <td>Mid-Range</td>\n",
       "      <td>Right Side(R)</td>\n",
       "      <td>13136</td>\n",
       "      <td>5332</td>\n",
       "      <td>0.405907</td>\n",
       "      <td>46</td>\n",
       "      <td>19</td>\n",
       "      <td>0.413043</td>\n",
       "    </tr>\n",
       "    <tr>\n",
       "      <th>9</th>\n",
       "      <td>Restricted Area</td>\n",
       "      <td>Center(C)</td>\n",
       "      <td>62987</td>\n",
       "      <td>41140</td>\n",
       "      <td>0.653151</td>\n",
       "      <td>311</td>\n",
       "      <td>193</td>\n",
       "      <td>0.620579</td>\n",
       "    </tr>\n",
       "    <tr>\n",
       "      <th>10</th>\n",
       "      <td>Right Corner 3</td>\n",
       "      <td>Right Side(R)</td>\n",
       "      <td>10091</td>\n",
       "      <td>3855</td>\n",
       "      <td>0.382024</td>\n",
       "      <td>24</td>\n",
       "      <td>9</td>\n",
       "      <td>0.375000</td>\n",
       "    </tr>\n",
       "  </tbody>\n",
       "</table>\n",
       "</div>"
      ],
      "text/plain": [
       "          SHOT_ZONE_BASIC         SHOT_ZONE_AREA    FGA    FGM    FG_PCT  \\\n",
       "0       Above the Break 3              Center(C)  16368   5613  0.342925   \n",
       "1       Above the Break 3   Left Side Center(LC)  24924   8511  0.341478   \n",
       "2       Above the Break 3  Right Side Center(RC)  23120   8171  0.353417   \n",
       "3               Backcourt         Back Court(BC)    475     15  0.031579   \n",
       "4   In The Paint (Non-RA)              Center(C)  35128  15041  0.428177   \n",
       "5           Left Corner 3           Left Side(L)  11377   4371  0.384196   \n",
       "6               Mid-Range              Center(C)   6253   2664  0.426036   \n",
       "7               Mid-Range           Left Side(L)  12863   5217  0.405582   \n",
       "8               Mid-Range          Right Side(R)  13136   5332  0.405907   \n",
       "9         Restricted Area              Center(C)  62987  41140  0.653151   \n",
       "10         Right Corner 3          Right Side(R)  10091   3855  0.382024   \n",
       "\n",
       "    PLAYER_FGA  PLAYER_FGM  FG_PLAYER_PCT  \n",
       "0           96          37       0.385417  \n",
       "1          146          43       0.294521  \n",
       "2          142          51       0.359155  \n",
       "3            1           0       0.000000  \n",
       "4           78          14       0.179487  \n",
       "5           48          17       0.354167  \n",
       "6           35          12       0.342857  \n",
       "7           26          11       0.423077  \n",
       "8           46          19       0.413043  \n",
       "9          311         193       0.620579  \n",
       "10          24           9       0.375000  "
      ]
     },
     "execution_count": 96,
     "metadata": {},
     "output_type": "execute_result"
    }
   ],
   "source": [
    "pd.merge(df_league_average_refined, player_df, on=['SHOT_ZONE_BASIC','SHOT_ZONE_AREA'], how='outer')"
   ]
  },
  {
   "cell_type": "markdown",
   "metadata": {},
   "source": [
    "# 2.0 Plotting Shot Chart\n",
    "credit: https://danielwelch.github.io/nba-team-shot-charts.html"
   ]
  },
  {
   "cell_type": "code",
   "execution_count": 97,
   "metadata": {},
   "outputs": [],
   "source": [
    "def court(ax=None, color='black', lw=2, outer_lines=False,direction='up',short_three=False):\n",
    "    '''\n",
    "    Plots an NBA court\n",
    "    outer_lines - accepts False or True. Plots the outer side lines of the court.\n",
    "    direction - 'up' or 'down' depending on how you like to view the court\n",
    "    Original function from http://savvastjortjoglou.com/\n",
    "    '''\n",
    "    # If an axes object isn't provided to plot onto, just get current one\n",
    "    if ax is None:\n",
    "        if direction=='up':\n",
    "            ax = plt.gca(xlim = [-30,30],ylim = [43,-7],xticks=[],yticks=[],aspect=1.0)\n",
    "            plt.text(22,44,'By: Doingthedishes',color='black',horizontalalignment='center',fontsize=20,fontweight='bold')\n",
    "        elif direction=='down':\n",
    "            ax = plt.gca(xlim = [30,-30],ylim = [-7,43],xticks=[],yticks=[],aspect=1.0)\n",
    "            plt.text(-22,-7,'By: Doingthedishes',color='black',horizontalalignment='center',fontsize=20,fontweight='bold')\n",
    "        else:\n",
    "            ax = plt.gca()\n",
    "    # Create the various parts of an NBA basketball court\n",
    "\n",
    "    # Create the basketball hoop\n",
    "    # Diameter of a hoop is 1.5 \n",
    "    hoop = Circle((0, 0), radius=0.75, linewidth=lw, color=color, fill=False)\n",
    "\n",
    "    # Create backboard\n",
    "    backboard = Rectangle((-3, -0.75), 6, -0.1, linewidth=lw, color=color)\n",
    "\n",
    "    # The paint\n",
    "    # Create the outer box of the paint, width=16ft, height=19ft\n",
    "    outer_box = Rectangle((-8, -5.25), 16, 19, linewidth=lw, color=color,\n",
    "                          fill=False)\n",
    "    # Create the inner box of the paint, widt=12ft, height=19ft\n",
    "    inner_box = Rectangle((-6, -5.25), 12, 19, linewidth=lw, color=color,\n",
    "                          fill=False)\n",
    "\n",
    "    # Create free throw top arc\n",
    "    top_free_throw = Arc((0, 13.75), 12, 12, theta1=0, theta2=180,\n",
    "                         linewidth=lw, color=color, fill=False)\n",
    "    # Create free throw bottom arc\n",
    "    bottom_free_throw = Arc((0, 13.75), 12, 12, theta1=180, theta2=0,\n",
    "                            linewidth=lw, color=color, linestyle='dashed')\n",
    "    # Restricted Zone, it is an arc with 4ft radius from center of the hoop\n",
    "    restricted = Arc((0, 0), 8, 8, theta1=0, theta2=180, linewidth=lw,\n",
    "                     color=color)\n",
    "\n",
    "    # Three point line\n",
    "    if not short_three:\n",
    "        corner_three_a = Rectangle((-22, -5.25), 0, np.sqrt(23.75**2-22.0**2)+5.25, linewidth=lw,\n",
    "                                   color=color)\n",
    "        corner_three_b = Rectangle((22, -5.25), 0, np.sqrt(23.75**2-22.0**2)+5.25, linewidth=lw, color=color)\n",
    "        # 3pt arc - center of arc will be the hoop, arc is 23'9\" away from hoop\n",
    "        three_arc = Arc((0, 0), 47.5, 47.5, theta1=np.arccos(22/23.75)*180/np.pi, theta2=180.0-np.arccos(22/23.75)*180/np.pi, linewidth=lw,\n",
    "                        color=color)\n",
    "    else:\n",
    "        corner_three_a = Rectangle((-22, -5.25), 0, 5.25, linewidth=lw,\n",
    "                           color=color)\n",
    "        corner_three_b = Rectangle((22, -5.25), 0, 5.25, linewidth=lw, color=color)\n",
    "        # 3pt arc - center of arc will be the hoop, arc is 23'9\" away from hoop\n",
    "        three_arc = Arc((0, 0), 44.0, 44.0, theta1=0, theta2=180, linewidth=lw,\n",
    "                        color=color)\n",
    "        # List of the court elements to be plotted onto the axes\n",
    "    court_elements = [hoop, backboard, outer_box, inner_box, top_free_throw,\n",
    "                      bottom_free_throw, restricted, corner_three_a,\n",
    "                      corner_three_b, three_arc]  \n",
    "\n",
    "    if outer_lines:\n",
    "        # Draw the half court line, baseline and side out bound lines\n",
    "        outer_lines = Rectangle((-25, -5.25), 50, 46.75, linewidth=lw,\n",
    "                                color=color, fill=False)\n",
    "        center_outer_arc = Arc((0, 41.25), 12, 12, theta1=180, theta2=0,\n",
    "                                linewidth=lw, color=color)\n",
    "        center_inner_arc = Arc((0, 41.25), 4, 4, theta1=180, theta2=0,\n",
    "                                linewidth=lw, color=color)\n",
    "        court_elements = court_elements + [outer_lines,center_outer_arc,center_inner_arc]\n",
    "    else:\n",
    "        ax.plot([-25,25],[-5.25,-5.25],linewidth=lw,color=color)\n",
    "    # Add the court elements onto the axes\n",
    "    for element in court_elements:\n",
    "        ax.add_patch(element)\n",
    "#    ax.axis('off')\n",
    "    return ax\n",
    "\n",
    "def zones(**kwargs):\n",
    "    '''\n",
    "    Plots zones on the court as per NBA.com\n",
    "    the plot adds to the last plot used or starts a new figure\n",
    "    '''\n",
    "    ax = plt.gca()\n",
    "    zone1 = Arc((0, 0), 16.0, 16.0,theta1 = -41.0,theta2 = 180.0+41.0,**kwargs)\n",
    "    zone2 = Arc((0, 0), 32.0, 32.0,theta1 = -19.2,theta2 = 180.0+19.2, **kwargs)\n",
    "    ax.add_patch(zone1)\n",
    "    ax.add_patch(zone2)\n",
    "    ang = 60.0\n",
    "    ax.plot([np.cos(ang/180*np.pi)*8, np.cos(ang/180*np.pi)*16],\n",
    "             [np.sin(ang/180*np.pi)*8, np.sin(ang/180*np.pi)*16],**kwargs)\n",
    "    ang = 120.0\n",
    "    ax.plot([np.cos(ang/180*np.pi)*8, np.cos(ang/180*np.pi)*16],\n",
    "             [np.sin(ang/180*np.pi)*8, np.sin(ang/180*np.pi)*16],**kwargs)\n",
    "    ax.plot([22,25],[14-5.25,14-5.25],**kwargs)\n",
    "    ax.plot([-22,-25],[14-5.25,14-5.25],**kwargs)\n",
    "    ang = 36.0\n",
    "    ax.plot([np.cos(ang/180*np.pi)*16, np.cos(ang/180*np.pi)*23.75],\n",
    "             [np.sin(ang/180*np.pi)*16, np.sin(ang/180*np.pi)*23.75],**kwargs)\n",
    "    ang = 72.0\n",
    "    ax.plot([np.cos(ang/180*np.pi)*16, np.cos(ang/180*np.pi)*24],\n",
    "             [np.sin(ang/180*np.pi)*16, np.sin(ang/180*np.pi)*24],**kwargs)\n",
    "    ang = 72.0+36.0\n",
    "    ax.plot([np.cos(ang/180*np.pi)*16, np.cos(ang/180*np.pi)*24],\n",
    "             [np.sin(ang/180*np.pi)*16, np.sin(ang/180*np.pi)*24],**kwargs)\n",
    "    ang = 72.0*2\n",
    "    ax.plot([np.cos(ang/180*np.pi)*16, np.cos(ang/180*np.pi)*23.75],\n",
    "             [np.sin(ang/180*np.pi)*16, np.sin(ang/180*np.pi)*23.75],**kwargs)\n",
    "    ang = 72.0\n",
    "    ax.plot([np.cos(ang/180*np.pi)*24, np.cos(ang/180*np.pi)*41.25],\n",
    "             [np.sin(ang/180*np.pi)*24, 41.25],**kwargs)\n",
    "    ang = 72.0+36.0\n",
    "    ax.plot([np.cos(ang/180*np.pi)*24, np.cos(ang/180*np.pi)*41.25],\n",
    "             [np.sin(ang/180*np.pi)*24, 41.25],**kwargs)\n",
    "        \n",
    "def text_in_zone(string,zone,box_alpha = 0.75,**kwargs):\n",
    "    '''\n",
    "    Adds text to zones. \n",
    "    Input: \n",
    "    string - text to be added\n",
    "    zone - specify zone (tuple)\n",
    "    Options:\n",
    "    box_alpha - string box transparency \n",
    "    '''\n",
    "    if zone == ('Less Than 8 ft.','Center(C)') :\n",
    "        t = plt.text(0,2,string,horizontalalignment='center',verticalalignment='center',**kwargs)\n",
    "        t.set_bbox(dict(color='white', alpha=box_alpha))\n",
    "    elif zone[0] ==  '8-16 ft.':\n",
    "        if zone[1] == 'Center(C)':\n",
    "            t = plt.text(0,12,string,horizontalalignment='center',verticalalignment='center',**kwargs)\n",
    "            t.set_bbox(dict(color='white', alpha=box_alpha))\n",
    "        elif zone[1] == 'Right Side(R)' :\n",
    "            t = plt.text(12,0,string,horizontalalignment='center',verticalalignment='center',**kwargs)\n",
    "            t.set_bbox(dict(color='white', alpha=box_alpha))\n",
    "        elif zone[1] == 'Left Side(L)':\n",
    "            t = plt.text(-12,0,string,horizontalalignment='center',verticalalignment='center',**kwargs)\n",
    "            t.set_bbox(dict(color='white', alpha=box_alpha))\n",
    "    elif zone[0] == '16-24 ft.':\n",
    "        if zone[1] == 'Center(C)':\n",
    "            t = plt.text(0,20,string,horizontalalignment='center',verticalalignment='center',**kwargs)\n",
    "            t.set_bbox(dict(color='white', alpha=box_alpha))\n",
    "        elif zone[1] == 'Right Side(R)':\n",
    "            t = plt.text(18,7.3,string,horizontalalignment='center',verticalalignment='center',**kwargs)\n",
    "            t.set_bbox(dict(color='white', alpha=box_alpha))\n",
    "        elif zone[1] ==  'Left Side(L)':\n",
    "            t = plt.text(-18,7.3,string,horizontalalignment='center',verticalalignment='center',**kwargs)\n",
    "            t.set_bbox(dict(color='white', alpha=box_alpha))\n",
    "        elif zone[1] == 'Right Side Center(RC)':\n",
    "            t = plt.text(12,15.5,string,horizontalalignment='center',verticalalignment='center',**kwargs)\n",
    "            t.set_bbox(dict(color='white', alpha=box_alpha))\n",
    "        elif zone[1] == 'Left Side Center(LC)':\n",
    "            t = plt.text(-12,15.5,string,horizontalalignment='center',verticalalignment='center',**kwargs)\n",
    "            t.set_bbox(dict(color='white', alpha=box_alpha))\n",
    "    elif zone[0] == '24+ ft.':\n",
    "        if zone[1] == 'Center(C)':\n",
    "            t = plt.text(0,28,string,horizontalalignment='center',verticalalignment='center',**kwargs)\n",
    "            t.set_bbox(dict(color='white', alpha=box_alpha))\n",
    "        elif zone[1] == 'Right Side(R)':\n",
    "            t = plt.text(27,0,string,horizontalalignment='center',verticalalignment='center',**kwargs)\n",
    "            t.set_bbox(dict(color='white', alpha=box_alpha))\n",
    "        elif zone[1] == 'Left Side(L)':\n",
    "            t = plt.text(-27,0,string,horizontalalignment='center',verticalalignment='center',**kwargs)\n",
    "            t.set_bbox(dict(color='white', alpha=box_alpha))\n",
    "        elif zone[1] == 'Right Side Center(RC)':\n",
    "            t = plt.text(19,24,string,horizontalalignment='center',verticalalignment='center',**kwargs)\n",
    "            t.set_bbox(dict(color='white', alpha=box_alpha))\n",
    "        elif zone[1] == 'Left Side Center(LC)':\n",
    "            t = plt.text(-19,24,string,horizontalalignment='center',verticalalignment='center',**kwargs)\n",
    "            t.set_bbox(dict(color='white', alpha=box_alpha)) \n",
    "    if zone == ('Back Court Shot', 'Back Court(BC)') :\n",
    "            t = plt.text(0,39,string,horizontalalignment='center',verticalalignment='center',**kwargs)\n",
    "            t.set_bbox(dict(color='white', alpha=box_alpha))\n",
    "\n",
    "\n",
    "def players_picture(player_id):\n",
    "    url = \"https://cdn.nba.com/headshots/nba/latest/1040x760/\"\n",
    "    player_id= str(player_id)\n",
    "    ext = \".png\"\n",
    "    full_url = url+player_id+ext\n",
    "    pic = urllib.request.urlretrieve(full_url)\n",
    "    return (plt.imread(pic[0]))\n",
    "    \n",
    "def shot_zone(X,Y):\n",
    "    '''\n",
    "    Uses shot coordinates x and y (in feet - divide by 10 if using the shotchart units)\n",
    "    and returns a tuple with the zone location\n",
    "    '''\n",
    "    r = np.sqrt(X**2+Y**2) # Create radius from X,Y location of shot\n",
    "    a = np.arctan2(Y,X)*180.0/np.pi # Determines from X,Y if the shot if right side or left side or center\n",
    "    if (Y<0) & (X > 0):\n",
    "        a = 0\n",
    "    elif (Y<0) & (X < 0):\n",
    "        a = 180\n",
    "    if r<=8:\n",
    "        z = ('Less Than 8 ft.','Center(C)')\n",
    "    elif (r>8) & (r<=16):\n",
    "        if a < 60:\n",
    "            z = ('8-16 ft.','Right Side(R)')\n",
    "        elif (a>=60) & (a<=120):\n",
    "            z = ('8-16 ft.','Center(C)')\n",
    "        else:\n",
    "            z = ('8-16 ft.','Left Side(L)')\n",
    "    elif (r>16) & (r<=23.75):\n",
    "        if a < 36:\n",
    "            z = ('16-24 ft.','Right Side(R)')\n",
    "        elif (a>=36) & (a<72):\n",
    "            z = ('16-24 ft.','Right Side Center(RC)')\n",
    "        elif (a>=72) & (a<=108):\n",
    "            z = ('16-24 ft.','Center(C)')\n",
    "        elif (a>108) & (a<144):\n",
    "            z = ('16-24 ft.','Left Side Center(LC)')\n",
    "        else:\n",
    "            z = ('16-24 ft.','Left Side(L)')\n",
    "    elif r>23.75:\n",
    "        if a < 72:\n",
    "            z = ('24+ ft.','Right Side Center(RC)')\n",
    "        elif (a>=72) & (a<=108):\n",
    "            z = ('24+ ft.','Center(C)')\n",
    "        else:\n",
    "            z = ('24+ ft.','Left Side Center(LC)')\n",
    "    if (np.abs(X)>=22):\n",
    "        if (X > 0) & (np.abs(Y)<8.75):\n",
    "            z = ('24+ ft.','Right Side(R)')\n",
    "        elif (X < 0) & (np.abs(Y)<8.75):\n",
    "            z = ('24+ ft.','Left Side(L)')\n",
    "        elif (X > 0) & (np.abs(Y)>=8.75):\n",
    "            z = ('24+ ft.','Right Side Center(RC)')\n",
    "        elif (X < 0) & (np.abs(Y)>=8.75):\n",
    "            z = ('24+ ft.','Left Side Center(LC)')\n",
    "    if Y >= 40:\n",
    "        z = ('Back Court Shot', 'Back Court(BC)')\n",
    "    return z\n",
    "\n",
    "def shot_zone_short_three(X,Y):\n",
    "    '''\n",
    "    Uses shot coordinates x and y (in feet - divide by 10 if using the shotchart units)\n",
    "    and returns a tuple with the zone location\n",
    "    '''\n",
    "    r = np.sqrt(X**2+Y**2) # Create radius from X,Y location of shot\n",
    "    a = np.arctan2(Y,X)*180.0/np.pi # Determines from X,Y if the shot if right side or left side or center\n",
    "    if (Y<0) & (X > 0):\n",
    "        a = 0\n",
    "    elif (Y<0) & (X < 0):\n",
    "        a = 180\n",
    "    if r<=8:\n",
    "        z = ('Less Than 8 ft.','Center(C)')\n",
    "    elif (r>8) & (r<=16):\n",
    "        if a < 60:\n",
    "            z = ('8-16 ft.','Right Side(R)')\n",
    "        elif (a>=60) & (a<=120):\n",
    "            z = ('8-16 ft.','Center(C)')\n",
    "        else:\n",
    "            z = ('8-16 ft.','Left Side(L)')\n",
    "    elif (r>16) & (r<=22.0):\n",
    "        if a < 36:\n",
    "            z = ('16-24 ft.','Right Side(R)')\n",
    "        elif (a>=36) & (a<72):\n",
    "            z = ('16-24 ft.','Right Side Center(RC)')\n",
    "        elif (a>=72) & (a<=108):\n",
    "            z = ('16-24 ft.','Center(C)')\n",
    "        elif (a>108) & (a<144):\n",
    "            z = ('16-24 ft.','Left Side Center(LC)')\n",
    "        else:\n",
    "            z = ('16-24 ft.','Left Side(L)')\n",
    "    elif r>22.0:\n",
    "        if a < 72:\n",
    "            z = ('24+ ft.','Right Side Center(RC)')\n",
    "        elif (a>=72) & (a<=108):\n",
    "            z = ('24+ ft.','Center(C)')\n",
    "        else:\n",
    "            z = ('24+ ft.','Left Side Center(LC)')\n",
    "    if (np.abs(X)>=22):\n",
    "        if (X > 0) & (np.abs(Y)<8.75):\n",
    "            z = ('24+ ft.','Right Side(R)')\n",
    "        elif (X < 0) & (np.abs(Y)<8.75):\n",
    "            z = ('24+ ft.','Left Side(L)')\n",
    "        elif (X > 0) & (np.abs(Y)>=8.75):\n",
    "            z = ('24+ ft.','Right Side Center(RC)')\n",
    "        elif (X < 0) & (np.abs(Y)>=8.75):\n",
    "            z = ('24+ ft.','Left Side Center(LC)')\n",
    "    if Y >= 40:\n",
    "        z = ('Back Court Shot', 'Back Court(BC)')\n",
    "    return z\n",
    "\n",
    "def shot_heatmap(df,sigma = 1,log=False,player_pic=True,ax=None,cmap='jet'):\n",
    "    '''\n",
    "    This function plots a heatmap based on the shot chart.\n",
    "    input - dataframe with x and y coordinates.\n",
    "    optional - log (default false) plots heatmap in log scale. \n",
    "               player (default true) adds player's picture and name if true \n",
    "               sigma - the sigma of the Gaussian kernel. In feet (default=1)\n",
    "    '''\n",
    "    n,_,_ = np.histogram2d( 0.1*df['LOC_X'].values, 0.1*df['LOC_Y'].values,bins = [500, 500],range = [[-25,25],[-5.25,44.75]])\n",
    "    KDE = ndimage.filters.gaussian_filter(n,10.0*sigma)\n",
    "    N = 1.0*KDE/np.sum(KDE)\n",
    "    if ax is None:\n",
    "        ax = plt.gca(xlim = [30,-30],ylim = [-7,43],xticks=[],yticks=[],aspect=1.0)\n",
    "    court(ax,outer_lines=True,color='black',lw=2.0,direction='down')\n",
    "    ax.axis('off')\n",
    "    if log:\n",
    "        ax.imshow(np.rot90(np.log10(N+1)),cmap=cmap,extent=[25.0, -25.0, -5.25, 44.75])\n",
    "    else:\n",
    "        ax.imshow(np.rot90(N),cmap=cmap,extent=[25.0, -25.0, -5.25, 44.75])\n",
    "    if player_pic:\n",
    "        player_id = df.PLAYER_ID.values[0]\n",
    "        pic = players_picture(player_id)\n",
    "        ax.imshow(pic,extent=[15,25,30,37.8261])\n",
    "    ax.text(0,-7,'By: Doingthedishes',color='white',horizontalalignment='center',fontsize=20,fontweight='bold')\n",
    "    \n",
    "def shot_scatter(df,player_pic=True,ax=None,noise=True,**kwargs):\n",
    "    '''\n",
    "    Plotting scatter plot of shots.\n",
    "    input - dataframe with x and y coordinates.\n",
    "    optional - player_pic (default True) loads player picture. Use if dataframe is for a single player. \n",
    "               ax (default None) can pass plot axis.\n",
    "               noise (default True) adds some random scatter to the data for better visualization  \n",
    "               other - any variables that can be passed into the scatter function (e.g. transperecy value)\n",
    "    '''\n",
    "    if ax is None: \n",
    "        ax = plt.gca(xlim = [30,-30],ylim = [-7,43],xticks=[],yticks=[],aspect=1.0)\n",
    "    court(ax,outer_lines=True,color='black',lw=2.0,direction='down')\n",
    "    ax.axis('off')\n",
    "    if noise:\n",
    "        X = df.LOC_X.values + np.random.normal(loc=0.0, scale=1.5, size=len(df.LOC_X.values))\n",
    "        Y = df.LOC_Y.values + np.random.normal(loc=0.0, scale=1.5, size=len(df.LOC_Y.values))\n",
    "    else:\n",
    "        X = df.LOC_X.values\n",
    "        Y = df.LOC_Y.values\n",
    "    ax.scatter(-0.1*X,0.1*Y,**kwargs)\n",
    "    if player_pic:\n",
    "        name = df.PLAYER_NAME.values[0]\n",
    "        player_id = df.PLAYER_ID.values[0]\n",
    "        pic = players_picture(player_id)\n",
    "        ax.imshow(pic,extent=[15,25,30,37.8261])\n",
    "        ax.text(20,29,name,fontsize=16,horizontalalignment='center',verticalalignment='center')\n",
    "    ax.text(0,-7,'By: Doingthedishes',color='black',horizontalalignment='center',fontsize=20,fontweight='bold')\n",
    "    \n",
    "def grantland_shotchart(shotchart,leagueavergae, player_id,ax=None,short_three=False,fg_range=[-9,9],figsize=(24,20),img=None):\n",
    "    LA = leagueavergae.loc[:,'SHOT_ZONE_AREA':'FGM'].groupby(['SHOT_ZONE_RANGE','SHOT_ZONE_AREA']).sum()\n",
    "    LA['FGP'] = 1.0*LA['FGM']/LA['FGA']\n",
    "    team = shotchart.groupby(['SHOT_ZONE_RANGE','SHOT_ZONE_AREA','SHOT_MADE_FLAG']).size().unstack(fill_value=0)\n",
    "    team['FGP'] = 1.0*team.loc[:,1]/team.sum(axis=1)\n",
    "    \n",
    "    # Subtract Team FG% from key zones from League Average\n",
    "    team_vs_league = (team.loc[:,'FGP'] - LA.loc[:,'FGP'])*100\n",
    "    \n",
    "    # Generate all shot locations\n",
    "    x,y = 1.0*shotchart.LOC_X.values/10, 1.0*shotchart.LOC_Y.values/10 \n",
    "    \n",
    "    fig = plt.figure()\n",
    "    poly_hexbins = plt.hexbin(x,y, gridsize=35, extent=[-25,25,-6.25,50-6.25], edgecolors = 'black', linewidths = 2)\n",
    "    counts = poly_hexbins.get_array()\n",
    "    verts = poly_hexbins.get_offsets()\n",
    "    plt.close(fig) # close the original figure created, as we just needed it to extract counts and verts\n",
    "    \n",
    "    # create a brand new figure\n",
    "    plt.figure(figsize=figsize,facecolor='white')  # (0,0.17,0.57)\n",
    "    if ax is None:\n",
    "        ax = plt.axes(xlim = [30,-30],ylim = [-10,40],xticks=[],yticks=[],aspect=1.0)\n",
    "    #court(ax,outer_lines=False,color='black',lw=1.0,direction='down',short_three=short_three); # plot the court\n",
    "    ax.axis('off')\n",
    "    #nba.plot.zones()\n",
    "    #s=0.8747731368853422\n",
    "    s = 0.85\n",
    "    bins = np.concatenate([[-np.inf],np.linspace(fg_range[0],fg_range[1],200),[np.inf]])\n",
    "    colors = [(0, 0.3, 1),(0.9,0.9,0.6), (1, 0, 0)]\n",
    "    \n",
    "    # This defines the gradient color list\n",
    "    cm = LinearSegmentedColormap.from_list('my_list', colors, N=len(bins)-1)\n",
    "    \n",
    "    xy = s*np.array([np.cos(np.linspace(np.pi/6,np.pi*330/180,6)),np.sin(np.linspace(np.pi/6,np.pi*330/180,6))]).T\n",
    "    b = np.zeros((6,2))\n",
    "    \n",
    "    \n",
    "    counts_norm = np.zeros_like(counts) #Return an array of zeros with the same shape and type as a given array.\n",
    "                                        # [counts = poly_hexbins.get_array()]\n",
    "    counts_norm[counts>=4] = 1\n",
    "    counts_norm[(counts>=2) & (counts<4)] = 0.5\n",
    "    counts_norm[(counts>=1) & (counts<2)] = 0.3\n",
    "    patches=[]\n",
    "    colors=[]\n",
    "    \n",
    "    for offc in range(verts.shape[0]):\n",
    "        if counts_norm[offc] != 0:\n",
    "            xc,yc = verts[offc][0],verts[offc][1] \n",
    "            b[:,0] = xy[:,0]*counts_norm[offc] + xc\n",
    "            b[:,1] = xy[:,1]*counts_norm[offc] + yc\n",
    "            if not short_three:\n",
    "                p_diff = team_vs_league.loc[shot_zone(xc,yc)] #calls shot_zone function\n",
    "            else:\n",
    "                p_diff = team_vs_league.loc[shot_zone_short_three(xc,yc)] #calls shot_zone_short_three function\n",
    "                # This Short Three is not used at all\n",
    "            inds = np.digitize(p_diff, bins,right=True)-1\n",
    "            patches.append(Polygon(b))\n",
    "            colors.append(inds)\n",
    "          \n",
    "    # This is for the hexagon in the legends at the bottom LEFT\n",
    "    for i in range(5):\n",
    "        xc = 21-2*0.76*i\n",
    "        yc = -7\n",
    "        b[:,0] = xy[:,0] + xc\n",
    "        b[:,1] = xy[:,1] + yc\n",
    "        patches.append(Polygon(b))\n",
    "        colors.append(i*50)\n",
    "    \n",
    "    # This is to plot the text at the bottom left of the chart\n",
    "    plt.text(24.615,-7.1,'Below Avg',horizontalalignment='center',verticalalignment='center', fontsize = 20)\n",
    "    plt.text(17.5-2*0.76*4,-7.1,'Above Avg',horizontalalignment='center',verticalalignment='center', fontsize = 20)\n",
    "    \n",
    "    xc = -14.5\n",
    "    yc = -7.0\n",
    "    \n",
    "    # This is to plot the text at the bottom right of the chart\n",
    "    plt.text(-12,-7.1,'Less',horizontalalignment='center',verticalalignment='center', fontsize = 20)\n",
    "    \n",
    "    b[:,0] = xy[:,0]*0.3 + xc\n",
    "    b[:,1] = xy[:,1]*0.3 + yc\n",
    "    patches.append(Polygon(b)) # seems to draw patch for the bottom right legend LESS\n",
    "    colors.append(100)\n",
    "    \n",
    "    xc = -16\n",
    "    b[:,0] = xy[:,0]*0.50 + xc\n",
    "    b[:,1] = xy[:,1]*0.50 + yc\n",
    "    patches.append(Polygon(b)) # seems to draw patch for the bottom right legend between LESS and MORE\n",
    "    colors.append(100)\n",
    "    \n",
    "    xc = -18\n",
    "    b[:,0] = xy[:,0] + xc\n",
    "    b[:,1] = xy[:,1] + yc\n",
    "    \n",
    "    # This is to plot the text at the bottom right of the chart\n",
    "    plt.text(-21,-7.1,'More',horizontalalignment='center',verticalalignment='center', fontsize = 20)\n",
    "    \n",
    "#     # This is to plot the title on chart\n",
    "#     plt.text(0,37,'Jalen Green Shot Chart [2021-22]',\\\n",
    "#              horizontalalignment='center',verticalalignment='center',\\\n",
    "#             fontsize = 14, fontfamily = 'Helvetica',fontweight = 'light',\\\n",
    "#             color= 'r')\n",
    "    \n",
    "    patches.append(Polygon(b)) # seems to draw patch for the bottom right legend MORE\n",
    "    colors.append(100)\n",
    "\n",
    "    p = PatchCollection(patches,cmap=cm,alpha=1, edgecolor = 'white', lw = 2)\n",
    "    p.set_array(np.array(colors)) # Inserts the Colors created\n",
    "    ax.add_collection(p) # Plots the hexes\n",
    "    p.set_clim([0, len(bins)-1])\n",
    "    \n",
    "    court(ax,outer_lines=False,color='black',lw=1.0,direction='down',short_three=short_three);\n",
    "    \n",
    "    # plot the field goal percentages on each of the zones\n",
    "    chart = team\n",
    "    chart = chart.reset_index()\n",
    "    \n",
    "    # 2 point shots far mid-range\n",
    "    FROM_16_24_C = str(round (chart['FGP'][0]*100))+ '%'\n",
    "    FROM_16_24_LC = str(round (chart['FGP'][1]*100))+ '%'\n",
    "    FROM_16_24_L = str(round (chart['FGP'][2]*100))+ '%'\n",
    "    FROM_16_24_RC = str(round (chart['FGP'][3]*100))+ '%'\n",
    "    FROM_16_24_R = str(round (chart['FGP'][4]*100))+ '%'\n",
    "    \n",
    "    # 3 point shots\n",
    "    OVER_24_C = str(round (chart['FGP'][5]*100))+ '%'\n",
    "    OVER_24_LC = str(round (chart['FGP'][6]*100))+ '%'\n",
    "    OVER_24_L = str(round (chart['FGP'][7]*100))+ '%'\n",
    "    OVER_24_RC = str(round (chart['FGP'][8]*100))+ '%'\n",
    "    OVER_24_R = str(round (chart['FGP'][9]*100))+ '%'\n",
    "    \n",
    "    # 2 point shots near midrange and center\n",
    "    FROM_8_16_C = str(round (chart['FGP'][10]*100))+ '%'\n",
    "    FROM_8_16_L = str(round (chart['FGP'][11]*100))+ '%'\n",
    "    FROM_8_16_R = str(round (chart['FGP'][12]*100))+ '%'\n",
    "    LESS_8_C = str(round (chart['FGP'][14]*100))+ '%'\n",
    "    \n",
    "    plt.text(1.5,30,OVER_24_C, fontsize = 28, fontfamily = 'Helvetica',fontweight = 'light', color= 'black')\n",
    "    plt.text(-18,23,OVER_24_LC, fontsize = 28, fontfamily = 'Helvetica',fontweight = 'light', color= 'black')\n",
    "    plt.text(18,23,OVER_24_RC, fontsize = 28, fontfamily = 'Helvetica',fontweight = 'light', color= 'black')\n",
    "    plt.text(-25,2,OVER_24_L, fontsize = 28, fontfamily = 'Helvetica',fontweight = 'light', color= 'black')\n",
    "    plt.text(27,2,OVER_24_R, fontsize = 28, fontfamily = 'Helvetica',fontweight = 'light', color= 'black')\n",
    "    plt.text(-3.1,-2,LESS_8_C, fontsize = 28, fontfamily = 'Helvetica',fontweight = 'light', color= 'black')\n",
    "    plt.text(19,8.25,FROM_16_24_R, fontsize = 28, fontfamily = 'Helvetica',fontweight = 'light', color= 'black')\n",
    "    plt.text(-12,15,FROM_16_24_LC, fontsize = 28, fontfamily = 'Helvetica',fontweight = 'light', color= 'black')\n",
    "    \n",
    "    # plot player image on shot chart\n",
    "    player_image = players_picture(player_id)\n",
    "    plt.imshow(player_image,zorder=4, extent=[22, 11, -5.25, 1.85])\n",
    "    \n",
    "#     if img is not None:\n",
    "#         ax.imshow(img,extent=[15,25,30,37.8261])"
   ]
  },
  {
   "cell_type": "code",
   "execution_count": 98,
   "metadata": {},
   "outputs": [
    {
     "data": {
      "image/png": "[encoded data removed]",
      "text/plain": [
       "<Figure size 1728x1440 with 1 Axes>"
      ]
     },
     "metadata": {},
     "output_type": "display_data"
    }
   ],
   "source": [
    "grantland_shotchart(df_player_shots, df_league_average, player_id)"
   ]
  },
  {
   "cell_type": "code",
   "execution_count": 99,
   "metadata": {},
   "outputs": [
    {
     "data": {
      "text/html": [
       "\n",
       "        <iframe\n",
       "            width=\"975\"\n",
       "            height=\"857\"\n",
       "            src=\"https://flo.uri.sh/visualisation/11125767/embed\"\n",
       "            frameborder=\"0\"\n",
       "            allowfullscreen\n",
       "            \n",
       "        ></iframe>\n",
       "        "
      ],
      "text/plain": [
       "<IPython.lib.display.IFrame at 0x7fb170a4b8e0>"
      ]
     },
     "execution_count": 99,
     "metadata": {},
     "output_type": "execute_result"
    }
   ],
   "source": [
    "IFrame(src='https://flo.uri.sh/visualisation/11125767/embed', width=975, height=857)"
   ]
  },
  {
   "cell_type": "code",
   "execution_count": null,
   "metadata": {},
   "outputs": [],
   "source": []
  }
 ],
 "metadata": {
  "kernelspec": {
   "display_name": "Python 3 (ipykernel)",
   "language": "python",
   "name": "python3"
  },
  "language_info": {
   "codemirror_mode": {
    "name": "ipython",
    "version": 3
   },
   "file_extension": ".py",
   "mimetype": "text/x-python",
   "name": "python",
   "nbconvert_exporter": "python",
   "pygments_lexer": "ipython3",
   "version": "3.9.12"
  }
 },
 "nbformat": 4,
 "nbformat_minor": 4
}
